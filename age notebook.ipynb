{
 "cells": [
  {
   "cell_type": "markdown",
   "metadata": {},
   "source": [
    "## AGE PROGRESSION"
   ]
  },
  {
   "cell_type": "markdown",
   "metadata": {},
   "source": [
    "Authors: Bonface Mutua, Grace Anyango, Jamleck Mathenge, Medrine Waeni, Ryan Musasia, Susan Mungai, Willy Angole\n"
   ]
  },
  {
   "cell_type": "markdown",
   "metadata": {},
   "source": [
    "## 1. BUSINESS UNDERSTANDING"
   ]
  },
  {
   "cell_type": "markdown",
   "metadata": {},
   "source": [
    "## 1.1 Overview"
   ]
  },
  {
   "cell_type": "markdown",
   "metadata": {},
   "source": [
    "\n",
    "Age progression is a technique used to predict what a person may look like in the future. This technique is often used in forensic psychology to help investigators identify missing persons or suspects. One can also use it for personal or professional reasons, such as creating a visual representation of what a child may look like as they grow older or creating a marketing campaign for an age-related product.\n",
    "\n",
    "Age progression models can be beneficial for a variety of reasons:\n",
    "\n",
    "* Help families and investigators reunite with missing loved ones\n",
    "\n",
    "* Identify suspects in criminal cases\n",
    "\n",
    "* By mimicking the aging process in a controlled setting for healthcare, researchers may evaluate the effectiveness of various interventions and make better educated choices about which treatments are most likely to be helpful.\n",
    "\n",
    "* It might be employed as a teaching and learning aid to assist scholars in comprehending the physical impacts of aging as well as the underlying mechanisms that underlie the aging process.\n",
    "\n",
    "* It can be used to create more realistic and engaging marketing campaigns for age-related products or services.\n",
    "\n",
    "Overall, the use of age progression models can provide valuable insights and be beneficial in various settings. By using these models, individuals and organizations can better understand and anticipate the effects of aging, which can help them make more informed decisions and improve their overall well-being.\n",
    "\n"
   ]
  },
  {
   "cell_type": "markdown",
   "metadata": {},
   "source": [
    "## 1.1.2 Problem statement"
   ]
  },
  {
   "cell_type": "markdown",
   "metadata": {},
   "source": [
    "Security officers may come across people whose looks have altered dramatically since their last known photograph, making it challenging to correctly identify them using conventional methods as the population ages. By employing algorithms to forecast how a person's look is expected to vary over time, an age progression machine learning model has the ability to address this issue and make it easier for security staff to recognize people and respond to potential security risks as well as find missing individuals.\n"
   ]
  },
  {
   "cell_type": "markdown",
   "metadata": {},
   "source": [
    "## 1.1.3 Specific Objectives"
   ]
  },
  {
   "cell_type": "markdown",
   "metadata": {},
   "source": [
    "* Displaying the age progression of an image to the specified age \n",
    "\n",
    "* Deploy a face aging algorithm that can be used in real world application\n",
    "\n",
    "* To use models that increase the accuracy of the project\n",
    "\n",
    "* Create user-friendly interfaces that allow law enforcement officials and other users to easily apply the model to their use cases \n"
   ]
  },
  {
   "cell_type": "markdown",
   "metadata": {},
   "source": [
    "## 1.1.4 Business Success Criteria"
   ]
  },
  {
   "cell_type": "markdown",
   "metadata": {},
   "source": [
    "Build a model that predicts, with an accuracy 70%"
   ]
  },
  {
   "cell_type": "markdown",
   "metadata": {},
   "source": [
    "## DATA UNDERSTANDING"
   ]
  },
  {
   "cell_type": "markdown",
   "metadata": {},
   "source": [
    "### Description of columns in the file:"
   ]
  },
  {
   "cell_type": "markdown",
   "metadata": {},
   "source": [
    "* [age] is an integer from 0 to 116, indicating the age\n",
    "\n",
    "* [gender] is either 0 (male) or 1 (female)\n",
    "\n",
    "* [race] is an integer from 0 to 4, denoting White, Black, Asian, Indian, and Others (like Hispanic, Latino, Middle Eastern).\n",
    "\n",
    "* [date&time] is in the format of yyyymmddHHMMSSFFF, showing the date and time an image was collected to UTKFace"
   ]
  },
  {
   "cell_type": "code",
   "execution_count": 4,
   "metadata": {},
   "outputs": [],
   "source": [
    "#importing libraries\n",
    "import os # to access files in the opereating system\n",
    "import shutil\n",
    "import numpy as np\n",
    "import pandas as pd\n",
    "import matplotlib.pyplot as plt\n",
    "import seaborn as sns\n",
    "import cv2"
   ]
  },
  {
   "cell_type": "code",
   "execution_count": 5,
   "metadata": {},
   "outputs": [
    {
     "data": {
      "text/plain": [
       "['100_0_0_20170112213500903.jpg.chip.jpg',\n",
       " '100_0_0_20170112215240346.jpg.chip.jpg',\n",
       " '100_1_0_20170110183726390.jpg.chip.jpg',\n",
       " '100_1_0_20170112213001988.jpg.chip.jpg',\n",
       " '100_1_0_20170112213303693.jpg.chip.jpg',\n",
       " '100_1_0_20170112215032192.jpg.chip.jpg',\n",
       " '100_1_0_20170117195420803.jpg.chip.jpg',\n",
       " '100_1_0_20170119212053665.jpg.chip.jpg',\n",
       " '100_1_2_20170105174847679.jpg.chip.jpg',\n",
       " '100_1_2_20170112213615815.jpg.chip.jpg',\n",
       " '100_1_2_20170112222336458.jpg.chip.jpg',\n",
       " '101_0_0_20170112213500903.jpg.chip.jpg',\n",
       " '101_1_2_20170105174739309.jpg.chip.jpg',\n",
       " '103_0_2_20170112213001988.jpg.chip.jpg',\n",
       " '105_0_0_20170112213001988.jpg.chip.jpg',\n",
       " '105_1_0_20170112213001988.jpg.chip.jpg',\n",
       " '105_1_0_20170112213021902.jpg.chip.jpg',\n",
       " '105_1_0_20170112213507183.jpg.chip.jpg',\n",
       " '105_1_1_20170112213303693.jpg.chip.jpg',\n",
       " '10_0_0_20161220222308131.jpg.chip.jpg',\n",
       " '10_0_0_20170103200329407.jpg.chip.jpg',\n",
       " '10_0_0_20170103200522151.jpg.chip.jpg',\n",
       " '10_0_0_20170103233459275.jpg.chip.jpg',\n",
       " '10_0_0_20170104013211746.jpg.chip.jpg',\n",
       " '10_0_0_20170110215927291.jpg.chip.jpg',\n",
       " '10_0_0_20170110220033115.jpg.chip.jpg',\n",
       " '10_0_0_20170110220111082.jpg.chip.jpg',\n",
       " '10_0_0_20170110220235233.jpg.chip.jpg',\n",
       " '10_0_0_20170110220251986.jpg.chip.jpg',\n",
       " '10_0_0_20170110220255346.jpg.chip.jpg',\n",
       " '10_0_0_20170110220316298.jpg.chip.jpg',\n",
       " '10_0_0_20170110220403810.jpg.chip.jpg',\n",
       " '10_0_0_20170110220447314.jpg.chip.jpg',\n",
       " '10_0_0_20170110220503946.jpg.chip.jpg',\n",
       " '10_0_0_20170110220514186.jpg.chip.jpg',\n",
       " '10_0_0_20170110220530650.jpg.chip.jpg',\n",
       " '10_0_0_20170110220539329.jpg.chip.jpg',\n",
       " '10_0_0_20170110220541850.jpg.chip.jpg',\n",
       " '10_0_0_20170110220546177.jpg.chip.jpg',\n",
       " '10_0_0_20170110220548521.jpg.chip.jpg',\n",
       " '10_0_0_20170110220557169.jpg.chip.jpg',\n",
       " '10_0_0_20170110220644705.jpg.chip.jpg',\n",
       " '10_0_0_20170110220654150.jpg.chip.jpg',\n",
       " '10_0_0_20170110221714752.jpg.chip.jpg',\n",
       " '10_0_0_20170110221719390.jpg.chip.jpg',\n",
       " '10_0_0_20170110221811823.jpg.chip.jpg',\n",
       " '10_0_0_20170110224223937.jpg.chip.jpg',\n",
       " '10_0_0_20170110224238891.jpg.chip.jpg',\n",
       " '10_0_0_20170110224253445.jpg.chip.jpg',\n",
       " '10_0_0_20170110224255796.jpg.chip.jpg',\n",
       " '10_0_0_20170110224402264.jpg.chip.jpg',\n",
       " '10_0_0_20170110224406532.jpg.chip.jpg',\n",
       " '10_0_0_20170110224416035.jpg.chip.jpg',\n",
       " '10_0_0_20170110224500062.jpg.chip.jpg',\n",
       " '10_0_0_20170110224524253.jpg.chip.jpg',\n",
       " '10_0_0_20170110224549512.jpg.chip.jpg',\n",
       " '10_0_0_20170110224725285.jpg.chip.jpg',\n",
       " '10_0_0_20170110224757882.jpg.chip.jpg',\n",
       " '10_0_0_20170110225013755.jpg.chip.jpg',\n",
       " '10_0_0_20170110225035898.jpg.chip.jpg',\n",
       " '10_0_0_20170110225227587.jpg.chip.jpg',\n",
       " '10_0_0_20170110225243501.jpg.chip.jpg',\n",
       " '10_0_0_20170110225246490.jpg.chip.jpg',\n",
       " '10_0_0_20170110225252799.jpg.chip.jpg',\n",
       " '10_0_0_20170110225402690.jpg.chip.jpg',\n",
       " '10_0_0_20170110225414790.jpg.chip.jpg',\n",
       " '10_0_0_20170110225417177.jpg.chip.jpg',\n",
       " '10_0_0_20170110225421531.jpg.chip.jpg',\n",
       " '10_0_0_20170110225442428.jpg.chip.jpg',\n",
       " '10_0_0_20170110225444491.jpg.chip.jpg',\n",
       " '10_0_0_20170110225451638.jpg.chip.jpg',\n",
       " '10_0_0_20170110225502403.jpg.chip.jpg',\n",
       " '10_0_0_20170110225505288.jpg.chip.jpg',\n",
       " '10_0_0_20170110225518663.jpg.chip.jpg',\n",
       " '10_0_0_20170110225528484.jpg.chip.jpg',\n",
       " '10_0_0_20170110225537307.jpg.chip.jpg',\n",
       " '10_0_0_20170110225546130.jpg.chip.jpg',\n",
       " '10_0_0_20170110225557604.jpg.chip.jpg',\n",
       " '10_0_0_20170110225601897.jpg.chip.jpg',\n",
       " '10_0_0_20170116201102149.jpg.chip.jpg',\n",
       " '10_0_0_20170116201328751.jpg.chip.jpg',\n",
       " '10_0_0_20170116201337172.jpg.chip.jpg',\n",
       " '10_0_0_20170117135444407.jpg.chip.jpg',\n",
       " '10_0_0_20170117143048181.jpg.chip.jpg',\n",
       " '10_0_0_20170117175625724.jpg.chip.jpg',\n",
       " '10_0_0_20170120220628194.jpg.chip.jpg',\n",
       " '10_0_1_20170104010841239.jpg.chip.jpg',\n",
       " '10_0_1_20170110220507258.jpg.chip.jpg',\n",
       " '10_0_1_20170110220523360.jpg.chip.jpg',\n",
       " '10_0_1_20170110223455893.jpg.chip.jpg',\n",
       " '10_0_1_20170110223848885.jpg.chip.jpg',\n",
       " '10_0_1_20170110225121326.jpg.chip.jpg',\n",
       " '10_0_1_20170110225339066.jpg.chip.jpg',\n",
       " '10_0_1_20170116225209209.jpg.chip.jpg',\n",
       " '10_0_2_20170110224230094.jpg.chip.jpg',\n",
       " '10_0_2_20170116162109013.jpg.chip.jpg',\n",
       " '10_0_3_20161220215952636.jpg.chip.jpg',\n",
       " '10_0_3_20170104225233504.jpg.chip.jpg',\n",
       " '10_0_3_20170104225238736.jpg.chip.jpg',\n",
       " '10_0_3_20170105175322885.jpg.chip.jpg',\n",
       " '10_0_4_20161221192738446.jpg.chip.jpg',\n",
       " '10_0_4_20170103200335831.jpg.chip.jpg',\n",
       " '10_0_4_20170103200409638.jpg.chip.jpg',\n",
       " '10_0_4_20170103200443015.jpg.chip.jpg',\n",
       " '10_0_4_20170103200501766.jpg.chip.jpg',\n",
       " '10_0_4_20170103201924664.jpg.chip.jpg',\n",
       " '10_0_4_20170103202338152.jpg.chip.jpg',\n",
       " '10_0_4_20170103212521420.jpg.chip.jpg',\n",
       " '10_0_4_20170103223451479.jpg.chip.jpg',\n",
       " '10_0_4_20170104010810728.jpg.chip.jpg',\n",
       " '10_1_0_20161220222001459.jpg.chip.jpg',\n",
       " '10_1_0_20170103175323250.jpg.chip.jpg',\n",
       " '10_1_0_20170103200654246.jpg.chip.jpg',\n",
       " '10_1_0_20170109201728056.jpg.chip.jpg',\n",
       " '10_1_0_20170109202251032.jpg.chip.jpg',\n",
       " '10_1_0_20170109202346880.jpg.chip.jpg',\n",
       " '10_1_0_20170109203218966.jpg.chip.jpg',\n",
       " '10_1_0_20170109203245653.jpg.chip.jpg',\n",
       " '10_1_0_20170109203357787.jpg.chip.jpg',\n",
       " '10_1_0_20170109203427416.jpg.chip.jpg',\n",
       " '10_1_0_20170109203438428.jpg.chip.jpg',\n",
       " '10_1_0_20170109203501969.jpg.chip.jpg',\n",
       " '10_1_0_20170109203512075.jpg.chip.jpg',\n",
       " '10_1_0_20170109203556029.jpg.chip.jpg',\n",
       " '10_1_0_20170109203608654.jpg.chip.jpg',\n",
       " '10_1_0_20170109203642966.jpg.chip.jpg',\n",
       " '10_1_0_20170109203653735.jpg.chip.jpg',\n",
       " '10_1_0_20170109203759972.jpg.chip.jpg',\n",
       " '10_1_0_20170109203905538.jpg.chip.jpg',\n",
       " '10_1_0_20170109203917216.jpg.chip.jpg',\n",
       " '10_1_0_20170109203924076.jpg.chip.jpg',\n",
       " '10_1_0_20170109204148144.jpg.chip.jpg',\n",
       " '10_1_0_20170109204244904.jpg.chip.jpg',\n",
       " '10_1_0_20170109204255055.jpg.chip.jpg',\n",
       " '10_1_0_20170109204259563.jpg.chip.jpg',\n",
       " '10_1_0_20170109204338404.jpg.chip.jpg',\n",
       " '10_1_0_20170109204422889.jpg.chip.jpg',\n",
       " '10_1_0_20170109204435809.jpg.chip.jpg',\n",
       " '10_1_0_20170109204502951.jpg.chip.jpg',\n",
       " '10_1_0_20170109204617417.jpg.chip.jpg',\n",
       " '10_1_0_20170109204746535.jpg.chip.jpg',\n",
       " '10_1_0_20170109204844109.jpg.chip.jpg',\n",
       " '10_1_0_20170109204859493.jpg.chip.jpg',\n",
       " '10_1_0_20170109204931156.jpg.chip.jpg',\n",
       " '10_1_0_20170109205003280.jpg.chip.jpg',\n",
       " '10_1_0_20170109205134282.jpg.chip.jpg',\n",
       " '10_1_0_20170109205141310.jpg.chip.jpg',\n",
       " '10_1_0_20170109205208368.jpg.chip.jpg',\n",
       " '10_1_0_20170110220649364.jpg.chip.jpg',\n",
       " '10_1_1_20170109202938302.jpg.chip.jpg',\n",
       " '10_1_1_20170109203348828.jpg.chip.jpg',\n",
       " '10_1_1_20170109203520178.jpg.chip.jpg',\n",
       " '10_1_1_20170109203522559.jpg.chip.jpg',\n",
       " '10_1_1_20170109204636561.jpg.chip.jpg',\n",
       " '10_1_1_20170110225155603.jpg.chip.jpg',\n",
       " '10_1_1_20170116225209209.jpg.chip.jpg',\n",
       " '10_1_1_20170117134313205.jpg.chip.jpg',\n",
       " '10_1_2_20170103201007646.jpg.chip.jpg',\n",
       " '10_1_2_20170104005417671.jpg.chip.jpg',\n",
       " '10_1_2_20170109201545634.jpg.chip.jpg',\n",
       " '10_1_2_20170109205037024.jpg.chip.jpg',\n",
       " '10_1_2_20170116175840105.jpg.chip.jpg',\n",
       " '10_1_3_20170104221633430.jpg.chip.jpg',\n",
       " '10_1_3_20170104221645430.jpg.chip.jpg',\n",
       " '10_1_3_20170104221711437.jpg.chip.jpg',\n",
       " '10_1_3_20170109203848078.jpg.chip.jpg',\n",
       " '10_1_3_20170109205323078.jpg.chip.jpg',\n",
       " '10_1_3_20170112211048149.jpg.chip.jpg',\n",
       " '10_1_3_20170117144247699.jpg.chip.jpg',\n",
       " '10_1_3_20170119150820222.jpg.chip.jpg',\n",
       " '10_1_4_20161223225854867.jpg.chip.jpg',\n",
       " '10_1_4_20161223225900460.jpg.chip.jpg',\n",
       " '10_1_4_20170103200950879.jpg.chip.jpg',\n",
       " '10_1_4_20170104005649671.jpg.chip.jpg',\n",
       " '10_1_4_20170117195152197.jpg.chip.jpg',\n",
       " '110_0_0_20170112213500903.jpg.chip.jpg',\n",
       " '110_0_2_20170112223734562.jpg.chip.jpg',\n",
       " '110_1_0_20170120134701015.jpg.chip.jpg',\n",
       " '110_1_1_20170110155201038.jpg.chip.jpg',\n",
       " '110_1_3_20170110155139762.jpg.chip.jpg',\n",
       " '111_1_0_20170120134646399.jpg.chip.jpg',\n",
       " '115_1_0_20170120134725990.jpg.chip.jpg',\n",
       " '115_1_0_20170120134725991.jpg.chip.jpg',\n",
       " '115_1_1_20170112213257263.jpg.chip.jpg',\n",
       " '116_1_0_20170112213001988.jpg.chip.jpg',\n",
       " '116_1_0_20170120134921760.jpg.chip.jpg',\n",
       " '116_1_2_20170112220255503.jpg.chip.jpg',\n",
       " '116_1_3_20170120134744096.jpg.chip.jpg',\n",
       " '11_0_0_20170103200509559.jpg.chip.jpg',\n",
       " '11_0_0_20170103200824775.jpg.chip.jpg',\n",
       " '11_0_0_20170104012556563.jpg.chip.jpg',\n",
       " '11_0_0_20170110220408722.jpg.chip.jpg',\n",
       " '11_0_0_20170110220453002.jpg.chip.jpg',\n",
       " '11_0_0_20170110220500946.jpg.chip.jpg',\n",
       " '11_0_0_20170110220518578.jpg.chip.jpg',\n",
       " '11_0_0_20170110220657089.jpg.chip.jpg',\n",
       " '11_0_0_20170110220710576.jpg.chip.jpg',\n",
       " '11_0_0_20170110224233654.jpg.chip.jpg',\n",
       " '11_0_0_20170110224340941.jpg.chip.jpg',\n",
       " '11_0_0_20170110224408700.jpg.chip.jpg',\n",
       " '11_0_0_20170110224505551.jpg.chip.jpg',\n",
       " '11_0_0_20170110224606036.jpg.chip.jpg',\n",
       " '11_0_0_20170110224742037.jpg.chip.jpg',\n",
       " '11_0_0_20170110224755272.jpg.chip.jpg',\n",
       " '11_0_0_20170110225254975.jpg.chip.jpg',\n",
       " '11_0_0_20170110225327724.jpg.chip.jpg',\n",
       " '11_0_0_20170110225435539.jpg.chip.jpg',\n",
       " '11_0_0_20170110225459361.jpg.chip.jpg',\n",
       " '11_0_0_20170110232511893.jpg.chip.jpg',\n",
       " '11_0_1_20170103201136230.jpg.chip.jpg',\n",
       " '11_0_2_20170103200847287.jpg.chip.jpg',\n",
       " '11_0_3_20170104013250186.jpg.chip.jpg',\n",
       " '11_0_3_20170104230222352.jpg.chip.jpg',\n",
       " '11_0_4_20170103200621488.jpg.chip.jpg',\n",
       " '11_1_0_20170103200517422.jpg.chip.jpg',\n",
       " '11_1_0_20170109203319557.jpg.chip.jpg',\n",
       " '11_1_0_20170109203327397.jpg.chip.jpg',\n",
       " '11_1_0_20170109203353740.jpg.chip.jpg',\n",
       " '11_1_0_20170109203400684.jpg.chip.jpg',\n",
       " '11_1_0_20170109203422194.jpg.chip.jpg',\n",
       " '11_1_0_20170109203919852.jpg.chip.jpg',\n",
       " '11_1_0_20170109204030951.jpg.chip.jpg',\n",
       " '11_1_0_20170109204123358.jpg.chip.jpg',\n",
       " '11_1_0_20170109204523092.jpg.chip.jpg',\n",
       " '11_1_0_20170109204546617.jpg.chip.jpg',\n",
       " '11_1_0_20170109204611305.jpg.chip.jpg',\n",
       " '11_1_0_20170109204614249.jpg.chip.jpg',\n",
       " '11_1_0_20170109204641514.jpg.chip.jpg',\n",
       " '11_1_0_20170109204833458.jpg.chip.jpg',\n",
       " '11_1_0_20170109204927071.jpg.chip.jpg',\n",
       " '11_1_0_20170109205013531.jpg.chip.jpg',\n",
       " '11_1_0_20170109205122664.jpg.chip.jpg',\n",
       " '11_1_0_20170109205125500.jpg.chip.jpg',\n",
       " '11_1_0_20170109205136852.jpg.chip.jpg',\n",
       " '11_1_0_20170109205211093.jpg.chip.jpg',\n",
       " '11_1_0_20170109205214234.jpg.chip.jpg',\n",
       " '11_1_0_20170109205216790.jpg.chip.jpg',\n",
       " '11_1_0_20170109205247087.jpg.chip.jpg',\n",
       " '11_1_0_20170109205438571.jpg.chip.jpg',\n",
       " '11_1_0_20170109205441860.jpg.chip.jpg',\n",
       " '11_1_0_20170110224810583.jpg.chip.jpg',\n",
       " '11_1_0_20170117133441179.jpg.chip.jpg',\n",
       " '11_1_1_20170109203712835.jpg.chip.jpg',\n",
       " '11_1_1_20170114033545468.jpg.chip.jpg',\n",
       " '11_1_2_20170104005111615.jpg.chip.jpg',\n",
       " '11_1_3_20170104222911112.jpg.chip.jpg',\n",
       " '11_1_3_20170104223632543.jpg.chip.jpg',\n",
       " '11_1_4_20161223225953124.jpg.chip.jpg',\n",
       " '11_1_4_20170103201747167.jpg.chip.jpg',\n",
       " '11_1_4_20170103212554964.jpg.chip.jpg',\n",
       " '11_1_4_20170103233340363.jpg.chip.jpg',\n",
       " '11_1_4_20170104005813063.jpg.chip.jpg',\n",
       " '11_1_4_20170109201611941.jpg.chip.jpg',\n",
       " '12_0_0_20170103200900511.jpg.chip.jpg',\n",
       " '12_0_0_20170103201859385.jpg.chip.jpg',\n",
       " '12_0_0_20170104013257914.jpg.chip.jpg',\n",
       " '12_0_0_20170109213205384.jpg.chip.jpg',\n",
       " '12_0_0_20170110215606404.jpg.chip.jpg',\n",
       " '12_0_0_20170110215739155.jpg.chip.jpg',\n",
       " '12_0_0_20170110220108459.jpg.chip.jpg',\n",
       " '12_0_0_20170110221819113.jpg.chip.jpg',\n",
       " '12_0_0_20170110224603045.jpg.chip.jpg',\n",
       " '12_0_0_20170110224804208.jpg.chip.jpg',\n",
       " '12_0_0_20170110224833703.jpg.chip.jpg',\n",
       " '12_0_0_20170110224843637.jpg.chip.jpg',\n",
       " '12_0_0_20170110225028524.jpg.chip.jpg',\n",
       " '12_0_0_20170110225257257.jpg.chip.jpg',\n",
       " '12_0_0_20170110225330874.jpg.chip.jpg',\n",
       " '12_0_0_20170110225348936.jpg.chip.jpg',\n",
       " '12_0_0_20170110225540554.jpg.chip.jpg',\n",
       " '12_0_0_20170110225553717.jpg.chip.jpg',\n",
       " '12_0_0_20170110232735095.jpg.chip.jpg',\n",
       " '12_0_0_20170117133903517.jpg.chip.jpg',\n",
       " '12_0_0_20170117141849040.jpg.chip.jpg',\n",
       " '12_0_0_20170117145849076.jpg.chip.jpg',\n",
       " '12_0_0_20170117165940524.jpg.chip.jpg',\n",
       " '12_0_0_20170117182308749.jpg.chip.jpg',\n",
       " '12_0_0_20170117190914091.jpg.chip.jpg',\n",
       " '12_0_1_20170110224244673.jpg.chip.jpg',\n",
       " '12_0_1_20170110225335956.jpg.chip.jpg',\n",
       " '12_0_2_20161219212833549.jpg.chip.jpg',\n",
       " '12_0_2_20170104012525810.jpg.chip.jpg',\n",
       " '12_0_2_20170104013228314.jpg.chip.jpg',\n",
       " '12_0_2_20170105000510274.jpg.chip.jpg',\n",
       " '12_0_3_20170104013451506.jpg.chip.jpg',\n",
       " '12_0_3_20170104225715968.jpg.chip.jpg',\n",
       " '12_0_3_20170104225802393.jpg.chip.jpg',\n",
       " '12_0_3_20170104230255729.jpg.chip.jpg',\n",
       " '12_0_3_20170117183456013.jpg.chip.jpg',\n",
       " '12_0_4_20170103200538198.jpg.chip.jpg',\n",
       " '12_0_4_20170103200555927.jpg.chip.jpg',\n",
       " '12_0_4_20170103200626630.jpg.chip.jpg',\n",
       " '12_0_4_20170103200908168.jpg.chip.jpg',\n",
       " '12_0_4_20170103201607807.jpg.chip.jpg',\n",
       " '12_0_4_20170103201824880.jpg.chip.jpg',\n",
       " '12_0_4_20170103205745050.jpg.chip.jpg',\n",
       " '12_1_0_20170102234319611.jpg.chip.jpg',\n",
       " '12_1_0_20170102234723371.jpg.chip.jpg',\n",
       " '12_1_0_20170103175441790.jpg.chip.jpg',\n",
       " '12_1_0_20170103200659679.jpg.chip.jpg',\n",
       " '12_1_0_20170103200711205.jpg.chip.jpg',\n",
       " '12_1_0_20170103200742207.jpg.chip.jpg',\n",
       " '12_1_0_20170103200944175.jpg.chip.jpg',\n",
       " '12_1_0_20170104005520631.jpg.chip.jpg',\n",
       " '12_1_0_20170104005712405.jpg.chip.jpg',\n",
       " '12_1_0_20170104012017177.jpg.chip.jpg',\n",
       " '12_1_0_20170104013219930.jpg.chip.jpg',\n",
       " '12_1_0_20170104013410523.jpg.chip.jpg',\n",
       " '12_1_0_20170109193530060.jpg.chip.jpg',\n",
       " '12_1_0_20170109200852145.jpg.chip.jpg',\n",
       " '12_1_0_20170109200904988.jpg.chip.jpg',\n",
       " '12_1_0_20170109200926532.jpg.chip.jpg',\n",
       " '12_1_0_20170109201114375.jpg.chip.jpg',\n",
       " '12_1_0_20170109201553786.jpg.chip.jpg',\n",
       " '12_1_0_20170109201611941.jpg.chip.jpg',\n",
       " '12_1_0_20170109203240213.jpg.chip.jpg',\n",
       " '12_1_0_20170109203306886.jpg.chip.jpg',\n",
       " '12_1_0_20170109203310061.jpg.chip.jpg',\n",
       " '12_1_0_20170109203338340.jpg.chip.jpg',\n",
       " '12_1_0_20170109203424756.jpg.chip.jpg',\n",
       " '12_1_0_20170109203536309.jpg.chip.jpg',\n",
       " '12_1_0_20170109203606169.jpg.chip.jpg',\n",
       " '12_1_0_20170109203628860.jpg.chip.jpg',\n",
       " '12_1_0_20170109203631496.jpg.chip.jpg',\n",
       " '12_1_0_20170109203700059.jpg.chip.jpg',\n",
       " '12_1_0_20170109203709140.jpg.chip.jpg',\n",
       " '12_1_0_20170109204113685.jpg.chip.jpg',\n",
       " '12_1_0_20170109204206273.jpg.chip.jpg',\n",
       " '12_1_0_20170109204241570.jpg.chip.jpg',\n",
       " '12_1_0_20170109204428993.jpg.chip.jpg',\n",
       " '12_1_0_20170109204431716.jpg.chip.jpg',\n",
       " '12_1_0_20170109204507030.jpg.chip.jpg',\n",
       " '12_1_0_20170109204750280.jpg.chip.jpg',\n",
       " '12_1_0_20170109204805155.jpg.chip.jpg',\n",
       " '12_1_0_20170109204815030.jpg.chip.jpg',\n",
       " '12_1_0_20170109205043077.jpg.chip.jpg',\n",
       " '12_1_0_20170109205045850.jpg.chip.jpg',\n",
       " '12_1_0_20170109205056743.jpg.chip.jpg',\n",
       " '12_1_0_20170109205104124.jpg.chip.jpg',\n",
       " '12_1_0_20170109205130906.jpg.chip.jpg',\n",
       " '12_1_0_20170109212505669.jpg.chip.jpg',\n",
       " '12_1_0_20170109213526011.jpg.chip.jpg',\n",
       " '12_1_0_20170109214236402.jpg.chip.jpg',\n",
       " '12_1_0_20170109214435512.jpg.chip.jpg',\n",
       " '12_1_0_20170116211852302.jpg.chip.jpg',\n",
       " '12_1_0_20170117143729521.jpg.chip.jpg',\n",
       " '12_1_0_20170117154622148.jpg.chip.jpg',\n",
       " '12_1_0_20170117181943783.jpg.chip.jpg',\n",
       " '12_1_0_20170117193148948.jpg.chip.jpg',\n",
       " '12_1_1_20170109204024091.jpg.chip.jpg',\n",
       " '12_1_1_20170109204809866.jpg.chip.jpg',\n",
       " '12_1_1_20170109214204794.jpg.chip.jpg',\n",
       " '12_1_1_20170109214642524.jpg.chip.jpg',\n",
       " '12_1_1_20170112213303693.jpg.chip.jpg',\n",
       " '12_1_1_20170116225216163.jpg.chip.jpg',\n",
       " '12_1_1_20170116233629728.jpg.chip.jpg',\n",
       " '12_1_2_20170103200649030.jpg.chip.jpg',\n",
       " '12_1_2_20170103200922406.jpg.chip.jpg',\n",
       " '12_1_2_20170103201240488.jpg.chip.jpg',\n",
       " '12_1_2_20170104012405785.jpg.chip.jpg',\n",
       " '12_1_2_20170109203838187.jpg.chip.jpg',\n",
       " '12_1_2_20170109214246240.jpg.chip.jpg',\n",
       " '12_1_2_20170116190115810.jpg.chip.jpg',\n",
       " '12_1_2_20170116194059753.jpg.chip.jpg',\n",
       " '12_1_2_20170117145333545.jpg.chip.jpg',\n",
       " '12_1_2_20170117165908225.jpg.chip.jpg',\n",
       " '12_1_2_20170117194013371.jpg.chip.jpg',\n",
       " '12_1_3_20161220222343139.jpg.chip.jpg',\n",
       " '12_1_3_20170104012400657.jpg.chip.jpg',\n",
       " '12_1_3_20170104013517483.jpg.chip.jpg',\n",
       " '12_1_3_20170104221704334.jpg.chip.jpg',\n",
       " '12_1_3_20170104221910239.jpg.chip.jpg',\n",
       " '12_1_3_20170104223448631.jpg.chip.jpg',\n",
       " '12_1_3_20170104223643593.jpg.chip.jpg',\n",
       " '12_1_3_20170117152932909.jpg.chip.jpg',\n",
       " '12_1_3_20170117154644725.jpg.chip.jpg',\n",
       " '12_1_3_20170117174916351.jpg.chip.jpg',\n",
       " '12_1_4_20161223230033380.jpg.chip.jpg',\n",
       " '12_1_4_20170103200721583.jpg.chip.jpg',\n",
       " '12_1_4_20170103200804119.jpg.chip.jpg',\n",
       " '12_1_4_20170104011715593.jpg.chip.jpg',\n",
       " '12_1_4_20170109214232071.jpg.chip.jpg',\n",
       " '12_1_4_20170117201252893.jpg.chip.jpg',\n",
       " '13_0_0_20170103200413990.jpg.chip.jpg',\n",
       " '13_0_0_20170103200550455.jpg.chip.jpg',\n",
       " '13_0_0_20170103200631336.jpg.chip.jpg',\n",
       " '13_0_0_20170103200856687.jpg.chip.jpg',\n",
       " '13_0_0_20170103201032542.jpg.chip.jpg',\n",
       " '13_0_0_20170104003724576.jpg.chip.jpg',\n",
       " '13_0_0_20170104011725761.jpg.chip.jpg',\n",
       " '13_0_0_20170104012310089.jpg.chip.jpg',\n",
       " '13_0_0_20170104012320089.jpg.chip.jpg',\n",
       " '13_0_0_20170104012531409.jpg.chip.jpg',\n",
       " '13_0_0_20170104013342923.jpg.chip.jpg',\n",
       " '13_0_0_20170110220242419.jpg.chip.jpg',\n",
       " '13_0_0_20170110220458081.jpg.chip.jpg',\n",
       " '13_0_0_20170110224337867.jpg.chip.jpg',\n",
       " '13_0_0_20170110224531616.jpg.chip.jpg',\n",
       " '13_0_0_20170110224625011.jpg.chip.jpg',\n",
       " '13_0_0_20170110224745977.jpg.chip.jpg',\n",
       " '13_0_0_20170110224751365.jpg.chip.jpg',\n",
       " '13_0_0_20170110224801290.jpg.chip.jpg',\n",
       " '13_0_0_20170110225045970.jpg.chip.jpg',\n",
       " '13_0_0_20170110225059227.jpg.chip.jpg',\n",
       " '13_0_0_20170110225302179.jpg.chip.jpg',\n",
       " '13_0_0_20170110225307195.jpg.chip.jpg',\n",
       " '13_0_0_20170110225428740.jpg.chip.jpg',\n",
       " '13_0_0_20170110225438328.jpg.chip.jpg',\n",
       " '13_0_0_20170110225447389.jpg.chip.jpg',\n",
       " '13_0_0_20170110225513115.jpg.chip.jpg',\n",
       " '13_0_0_20170110225717809.jpg.chip.jpg',\n",
       " '13_0_0_20170110232519225.jpg.chip.jpg',\n",
       " '13_0_0_20170110232526929.jpg.chip.jpg',\n",
       " '13_0_1_20170110232537879.jpg.chip.jpg',\n",
       " '13_0_1_20170113150907477.jpg.chip.jpg',\n",
       " '13_0_2_20170103201143159.jpg.chip.jpg',\n",
       " '13_0_2_20170103201417686.jpg.chip.jpg',\n",
       " '13_0_2_20170117152653604.jpg.chip.jpg',\n",
       " '13_0_3_20170110232628896.jpg.chip.jpg',\n",
       " '13_0_3_20170119153840721.jpg.chip.jpg',\n",
       " '13_0_4_20170103201708406.jpg.chip.jpg',\n",
       " '13_1_0_20170104005742384.jpg.chip.jpg',\n",
       " '13_1_0_20170109201102915.jpg.chip.jpg',\n",
       " '13_1_0_20170109201615837.jpg.chip.jpg',\n",
       " '13_1_0_20170109201622416.jpg.chip.jpg',\n",
       " '13_1_0_20170109201711197.jpg.chip.jpg',\n",
       " '13_1_0_20170109203230286.jpg.chip.jpg',\n",
       " '13_1_0_20170109203322570.jpg.chip.jpg',\n",
       " '13_1_0_20170109203635557.jpg.chip.jpg',\n",
       " '13_1_0_20170109204048554.jpg.chip.jpg',\n",
       " '13_1_0_20170109204055232.jpg.chip.jpg',\n",
       " '13_1_0_20170109204108601.jpg.chip.jpg',\n",
       " '13_1_0_20170109204117086.jpg.chip.jpg',\n",
       " '13_1_0_20170109204128684.jpg.chip.jpg',\n",
       " '13_1_0_20170109204325267.jpg.chip.jpg',\n",
       " '13_1_0_20170109204439327.jpg.chip.jpg',\n",
       " '13_1_0_20170109204849625.jpg.chip.jpg',\n",
       " '13_1_0_20170109204923296.jpg.chip.jpg',\n",
       " '13_1_0_20170109205049477.jpg.chip.jpg',\n",
       " '13_1_0_20170109205106776.jpg.chip.jpg',\n",
       " '13_1_0_20170109205119953.jpg.chip.jpg',\n",
       " '13_1_0_20170109205237062.jpg.chip.jpg',\n",
       " '13_1_0_20170109212934682.jpg.chip.jpg',\n",
       " '13_1_0_20170109213526011.jpg.chip.jpg',\n",
       " '13_1_0_20170109214314841.jpg.chip.jpg',\n",
       " '13_1_0_20170109214402325.jpg.chip.jpg',\n",
       " '13_1_0_20170109214425620.jpg.chip.jpg',\n",
       " '13_1_0_20170109214635943.jpg.chip.jpg',\n",
       " '13_1_0_20170110220422857.jpg.chip.jpg',\n",
       " '13_1_0_20170110224453650.jpg.chip.jpg',\n",
       " '13_1_0_20170120133325603.jpg.chip.jpg',\n",
       " '13_1_1_20170109203928107.jpg.chip.jpg',\n",
       " '13_1_1_20170109204443201.jpg.chip.jpg',\n",
       " '13_1_2_20170104013444322.jpg.chip.jpg',\n",
       " '13_1_3_20170109205242338.jpg.chip.jpg',\n",
       " '13_1_3_20170109213029072.jpg.chip.jpg',\n",
       " '13_1_3_20170117181350659.jpg.chip.jpg',\n",
       " '13_1_4_20170103200733438.jpg.chip.jpg',\n",
       " '13_1_4_20170103200913055.jpg.chip.jpg',\n",
       " '13_1_4_20170103201542217.jpg.chip.jpg',\n",
       " '13_1_4_20170103212548662.jpg.chip.jpg',\n",
       " '13_1_4_20170104005210478.jpg.chip.jpg',\n",
       " '13_1_4_20170104005323135.jpg.chip.jpg',\n",
       " '13_1_4_20170117200640357.jpg.chip.jpg',\n",
       " '14_0_0_20170102234323550.jpg.chip.jpg',\n",
       " '14_0_0_20170102234854353.jpg.chip.jpg',\n",
       " '14_0_0_20170103200600206.jpg.chip.jpg',\n",
       " '14_0_0_20170103200611317.jpg.chip.jpg',\n",
       " '14_0_0_20170103200615511.jpg.chip.jpg',\n",
       " '14_0_0_20170103201123159.jpg.chip.jpg',\n",
       " '14_0_0_20170104011738192.jpg.chip.jpg',\n",
       " '14_0_0_20170104012315465.jpg.chip.jpg',\n",
       " '14_0_0_20170104012341136.jpg.chip.jpg',\n",
       " '14_0_0_20170104013338922.jpg.chip.jpg',\n",
       " '14_0_0_20170110220621497.jpg.chip.jpg',\n",
       " '14_0_0_20170110220704398.jpg.chip.jpg',\n",
       " '14_0_0_2017011022340900.jpg.chip.jpg',\n",
       " '14_0_0_20170110224441502.jpg.chip.jpg',\n",
       " '14_0_0_20170110224445654.jpg.chip.jpg',\n",
       " '14_0_0_20170110224516539.jpg.chip.jpg',\n",
       " '14_0_0_20170110224519294.jpg.chip.jpg',\n",
       " '14_0_0_20170110224528797.jpg.chip.jpg',\n",
       " '14_0_0_20170110225056665.jpg.chip.jpg',\n",
       " '14_0_0_20170110225116744.jpg.chip.jpg',\n",
       " '14_0_0_20170110225130741.jpg.chip.jpg',\n",
       " '14_0_0_20170110225405549.jpg.chip.jpg',\n",
       " '14_0_0_20170110225712028.jpg.chip.jpg',\n",
       " '14_0_0_20170110225725643.jpg.chip.jpg',\n",
       " '14_0_0_20170110231557039.jpg.chip.jpg',\n",
       " '14_0_0_20170110231657425.jpg.chip.jpg',\n",
       " '14_0_0_20170110232124117.jpg.chip.jpg',\n",
       " '14_0_0_20170110232127519.jpg.chip.jpg',\n",
       " '14_0_0_20170110232319481.jpg.chip.jpg',\n",
       " '14_0_0_20170110232523770.jpg.chip.jpg',\n",
       " '14_0_0_20170110232541244.jpg.chip.jpg',\n",
       " '14_0_0_20170110232544606.jpg.chip.jpg',\n",
       " '14_0_0_20170110232633429.jpg.chip.jpg',\n",
       " '14_0_0_20170110232651186.jpg.chip.jpg',\n",
       " '14_0_0_20170110232745742.jpg.chip.jpg',\n",
       " '14_0_0_20170110232801598.jpg.chip.jpg',\n",
       " '14_0_0_20170116201237010.jpg.chip.jpg',\n",
       " '14_0_0_20170116211955846.jpg.chip.jpg',\n",
       " '14_0_0_20170116222402683.jpg.chip.jpg',\n",
       " '14_0_0_20170117150204180.jpg.chip.jpg',\n",
       " '14_0_0_20170120133332421.jpg.chip.jpg',\n",
       " '14_0_1_20170104012054585.jpg.chip.jpg',\n",
       " '14_0_1_20170110232707718.jpg.chip.jpg',\n",
       " '14_0_1_20170113145153262.jpg.chip.jpg',\n",
       " '14_0_1_20170113151234215.jpg.chip.jpg',\n",
       " '14_0_1_20170116205529704.jpg.chip.jpg',\n",
       " '14_0_1_20170117133924867.jpg.chip.jpg',\n",
       " '14_0_1_20170117141604244.jpg.chip.jpg',\n",
       " '14_0_2_20170103200642238.jpg.chip.jpg',\n",
       " '14_0_2_20170103201038791.jpg.chip.jpg',\n",
       " '14_0_2_20170103201051263.jpg.chip.jpg',\n",
       " '14_0_2_20170104012412945.jpg.chip.jpg',\n",
       " '14_0_2_20170104012518441.jpg.chip.jpg',\n",
       " '14_0_2_20170104012541763.jpg.chip.jpg',\n",
       " '14_0_2_20170104013318514.jpg.chip.jpg',\n",
       " '14_0_2_20170110232701995.jpg.chip.jpg',\n",
       " '14_0_3_20170104012427337.jpg.chip.jpg',\n",
       " '14_0_3_20170104013434256.jpg.chip.jpg',\n",
       " '14_0_3_20170104225245755.jpg.chip.jpg',\n",
       " '14_0_3_20170104225533201.jpg.chip.jpg',\n",
       " '14_0_3_20170104225721488.jpg.chip.jpg',\n",
       " '14_0_3_20170104225858160.jpg.chip.jpg',\n",
       " '14_0_3_20170104230143521.jpg.chip.jpg',\n",
       " '14_0_3_20170109131758363.jpg.chip.jpg',\n",
       " '14_0_3_20170117181642515.jpg.chip.jpg',\n",
       " '14_0_4_20170103200528094.jpg.chip.jpg',\n",
       " '14_0_4_20170103200608359.jpg.chip.jpg',\n",
       " '14_0_4_20170103200837103.jpg.chip.jpg',\n",
       " '14_0_4_20170103201105568.jpg.chip.jpg',\n",
       " '14_0_4_20170103201644927.jpg.chip.jpg',\n",
       " '14_0_4_20170103205138666.jpg.chip.jpg',\n",
       " '14_0_4_20170113145202254.jpg.chip.jpg',\n",
       " '14_0_4_20170117192737955.jpg.chip.jpg',\n",
       " '14_0_4_20170117193432868.jpg.chip.jpg',\n",
       " '14_0_4_20170117204503401.jpg.chip.jpg',\n",
       " '14_1_0_20170103163023120.jpg.chip.jpg',\n",
       " '14_1_0_20170103183504594.jpg.chip.jpg',\n",
       " '14_1_0_20170103200702463.jpg.chip.jpg',\n",
       " '14_1_0_20170103200757286.jpg.chip.jpg',\n",
       " '14_1_0_20170103200819591.jpg.chip.jpg',\n",
       " '14_1_0_20170103201434935.jpg.chip.jpg',\n",
       " '14_1_0_20170103201911744.jpg.chip.jpg',\n",
       " '14_1_0_20170104005158239.jpg.chip.jpg',\n",
       " '14_1_0_20170104005333646.jpg.chip.jpg',\n",
       " '14_1_0_20170104005937407.jpg.chip.jpg',\n",
       " '14_1_0_20170104011720664.jpg.chip.jpg',\n",
       " '14_1_0_20170104011733528.jpg.chip.jpg',\n",
       " '14_1_0_20170104011842010.jpg.chip.jpg',\n",
       " '14_1_0_20170104013351986.jpg.chip.jpg',\n",
       " '14_1_0_20170109201824270.jpg.chip.jpg',\n",
       " '14_1_0_20170109203330417.jpg.chip.jpg',\n",
       " '14_1_0_20170109203340834.jpg.chip.jpg',\n",
       " '14_1_0_20170109203405475.jpg.chip.jpg',\n",
       " '14_1_0_20170109203505137.jpg.chip.jpg',\n",
       " '14_1_0_20170109203625481.jpg.chip.jpg',\n",
       " '14_1_0_20170109203638205.jpg.chip.jpg',\n",
       " '14_1_0_20170109203842960.jpg.chip.jpg',\n",
       " '14_1_0_20170109203901444.jpg.chip.jpg',\n",
       " '14_1_0_20170109203937399.jpg.chip.jpg',\n",
       " '14_1_0_20170109204131257.jpg.chip.jpg',\n",
       " '14_1_0_20170109204135732.jpg.chip.jpg',\n",
       " '14_1_0_20170109204158115.jpg.chip.jpg',\n",
       " '14_1_0_20170109204200483.jpg.chip.jpg',\n",
       " '14_1_0_20170109204218773.jpg.chip.jpg',\n",
       " '14_1_0_20170109204304326.jpg.chip.jpg',\n",
       " '14_1_0_20170109204321875.jpg.chip.jpg',\n",
       " '14_1_0_20170109204358190.jpg.chip.jpg',\n",
       " '14_1_0_20170109204620092.jpg.chip.jpg',\n",
       " '14_1_0_20170109204846649.jpg.chip.jpg',\n",
       " '14_1_0_20170109204918699.jpg.chip.jpg',\n",
       " '14_1_0_20170109205344937.jpg.chip.jpg',\n",
       " '14_1_0_20170109205406978.jpg.chip.jpg',\n",
       " '14_1_0_20170109212518607.jpg.chip.jpg',\n",
       " '14_1_0_20170109212651931.jpg.chip.jpg',\n",
       " '14_1_0_20170109212749213.jpg.chip.jpg',\n",
       " '14_1_0_20170109212753539.jpg.chip.jpg',\n",
       " '14_1_0_20170109212926958.jpg.chip.jpg',\n",
       " '14_1_0_20170109213221821.jpg.chip.jpg',\n",
       " '14_1_0_20170109213522480.jpg.chip.jpg',\n",
       " '14_1_0_20170109213541777.jpg.chip.jpg',\n",
       " '14_1_0_20170109213548658.jpg.chip.jpg',\n",
       " '14_1_0_20170109213635068.jpg.chip.jpg',\n",
       " '14_1_0_20170109214345916.jpg.chip.jpg',\n",
       " '14_1_0_20170109214349442.jpg.chip.jpg',\n",
       " '14_1_0_20170109214428765.jpg.chip.jpg',\n",
       " '14_1_0_20170109214440556.jpg.chip.jpg',\n",
       " '14_1_0_20170109214501715.jpg.chip.jpg',\n",
       " '14_1_0_20170109214635943.jpg.chip.jpg',\n",
       " '14_1_0_20170109214707410.jpg.chip.jpg',\n",
       " '14_1_0_20170117135203837.jpg.chip.jpg',\n",
       " '14_1_0_20170119150832998.jpg.chip.jpg',\n",
       " '14_1_1_20170109203225054.jpg.chip.jpg',\n",
       " '14_1_1_20170112230439326.jpg.chip.jpg',\n",
       " '14_1_1_20170116003214404.jpg.chip.jpg',\n",
       " '14_1_1_20170116235127595.jpg.chip.jpg',\n",
       " '14_1_2_20170102234329485.jpg.chip.jpg',\n",
       " '14_1_2_20170103200931103.jpg.chip.jpg',\n",
       " '14_1_2_20170104012048369.jpg.chip.jpg',\n",
       " '14_1_2_20170104012506017.jpg.chip.jpg',\n",
       " '14_1_2_20170104013310115.jpg.chip.jpg',\n",
       " '14_1_2_20170104021105972.jpg.chip.jpg',\n",
       " '14_1_2_20170109204853921.jpg.chip.jpg',\n",
       " '14_1_3_20161220220655004.jpg.chip.jpg',\n",
       " '14_1_3_20170104013523266.jpg.chip.jpg',\n",
       " '14_1_3_20170104221658783.jpg.chip.jpg',\n",
       " '14_1_3_20170104221756497.jpg.chip.jpg',\n",
       " '14_1_3_20170104221807127.jpg.chip.jpg',\n",
       " '14_1_3_20170104221818294.jpg.chip.jpg',\n",
       " '14_1_3_20170104221901782.jpg.chip.jpg',\n",
       " '14_1_3_20170104222437734.jpg.chip.jpg',\n",
       " '14_1_3_20170104222504560.jpg.chip.jpg',\n",
       " '14_1_4_20170103200753206.jpg.chip.jpg',\n",
       " '14_1_4_20170103200917543.jpg.chip.jpg',\n",
       " '14_1_4_20170103201207132.jpg.chip.jpg',\n",
       " '14_1_4_20170103201225838.jpg.chip.jpg',\n",
       " '14_1_4_20170103233153851.jpg.chip.jpg',\n",
       " '14_1_4_20170109205457235.jpg.chip.jpg',\n",
       " '15_0_0_20170102234355667.jpg.chip.jpg',\n",
       " '15_0_0_20170103200828591.jpg.chip.jpg',\n",
       " '15_0_0_20170103200850696.jpg.chip.jpg',\n",
       " '15_0_0_20170103201110847.jpg.chip.jpg',\n",
       " '15_0_0_20170103201301966.jpg.chip.jpg',\n",
       " '15_0_0_20170103201316167.jpg.chip.jpg',\n",
       " '15_0_0_20170104002211388.jpg.chip.jpg',\n",
       " '15_0_0_20170104011728017.jpg.chip.jpg',\n",
       " '15_0_0_20170104011743800.jpg.chip.jpg',\n",
       " '15_0_0_20170104012102240.jpg.chip.jpg',\n",
       " '15_0_0_20170104012346994.jpg.chip.jpg',\n",
       " '15_0_0_20170104012550546.jpg.chip.jpg',\n",
       " '15_0_0_20170104013333801.jpg.chip.jpg',\n",
       " '15_0_0_20170104225947233.jpg.chip.jpg',\n",
       " '15_0_0_20170105183251055.jpg.chip.jpg',\n",
       " '15_0_0_20170105183254311.jpg.chip.jpg',\n",
       " '15_0_0_20170110223430616.jpg.chip.jpg',\n",
       " '15_0_0_20170110224250144.jpg.chip.jpg',\n",
       " '15_0_0_20170110224312647.jpg.chip.jpg',\n",
       " '15_0_0_20170110224324459.jpg.chip.jpg',\n",
       " '15_0_0_20170110225410802.jpg.chip.jpg',\n",
       " '15_0_0_20170110225440579.jpg.chip.jpg',\n",
       " '15_0_0_20170110225617650.jpg.chip.jpg',\n",
       " '15_0_0_20170110225622776.jpg.chip.jpg',\n",
       " '15_0_0_20170110225705232.jpg.chip.jpg',\n",
       " '15_0_0_20170110231550866.jpg.chip.jpg',\n",
       " '15_0_0_20170110232117349.jpg.chip.jpg',\n",
       " '15_0_0_20170110232306381.jpg.chip.jpg',\n",
       " '15_0_0_20170110232311158.jpg.chip.jpg',\n",
       " '15_0_0_20170110232322390.jpg.chip.jpg',\n",
       " '15_0_0_20170110232327328.jpg.chip.jpg',\n",
       " '15_0_0_20170110232331351.jpg.chip.jpg',\n",
       " '15_0_0_20170110232338801.jpg.chip.jpg',\n",
       " '15_0_0_20170110232443234.jpg.chip.jpg',\n",
       " '15_0_0_20170110232452356.jpg.chip.jpg',\n",
       " '15_0_0_20170110232515682.jpg.chip.jpg',\n",
       " '15_0_0_20170110232532949.jpg.chip.jpg',\n",
       " '15_0_0_20170110232610061.jpg.chip.jpg',\n",
       " '15_0_0_20170110232636744.jpg.chip.jpg',\n",
       " '15_0_0_20170110232640357.jpg.chip.jpg',\n",
       " '15_0_0_20170110232646170.jpg.chip.jpg',\n",
       " '15_0_0_20170110232655904.jpg.chip.jpg',\n",
       " '15_0_0_20170110232717464.jpg.chip.jpg',\n",
       " '15_0_0_20170110232721987.jpg.chip.jpg',\n",
       " '15_0_0_20170110232730918.jpg.chip.jpg',\n",
       " '15_0_0_20170110232807958.jpg.chip.jpg',\n",
       " '15_0_0_20170116201123807.jpg.chip.jpg',\n",
       " '15_0_0_20170116201240276.jpg.chip.jpg',\n",
       " '15_0_0_20170116201246071.jpg.chip.jpg',\n",
       " '15_0_0_20170116201248395.jpg.chip.jpg',\n",
       " '15_0_0_20170116201250292.jpg.chip.jpg',\n",
       " '15_0_0_20170116201252122.jpg.chip.jpg',\n",
       " '15_0_0_20170116201253769.jpg.chip.jpg',\n",
       " '15_0_0_20170116201332456.jpg.chip.jpg',\n",
       " '15_0_0_20170116201342325.jpg.chip.jpg',\n",
       " '15_0_0_20170116211720424.jpg.chip.jpg',\n",
       " '15_0_0_20170117134820249.jpg.chip.jpg',\n",
       " '15_0_0_20170120133307597.jpg.chip.jpg',\n",
       " '15_0_1_20170110231743136.jpg.chip.jpg',\n",
       " '15_0_1_20170113132336584.jpg.chip.jpg',\n",
       " '15_0_1_20170113151409719.jpg.chip.jpg',\n",
       " '15_0_1_20170113154729554.jpg.chip.jpg',\n",
       " '15_0_1_20170113180633029.jpg.chip.jpg',\n",
       " '15_0_1_20170117135108912.jpg.chip.jpg',\n",
       " '15_0_1_20170117135556256.jpg.chip.jpg',\n",
       " '15_0_1_20170120134502877.jpg.chip.jpg',\n",
       " '15_0_2_20161219193832243.jpg.chip.jpg',\n",
       " '15_0_2_20170102235056163.jpg.chip.jpg',\n",
       " '15_0_2_20170104011938218.jpg.chip.jpg',\n",
       " '15_0_2_20170104013327250.jpg.chip.jpg',\n",
       " '15_0_2_20170116181405111.jpg.chip.jpg',\n",
       " '15_0_3_20170104225254497.jpg.chip.jpg',\n",
       " '15_0_3_20170104225525049.jpg.chip.jpg',\n",
       " '15_0_3_20170104225537649.jpg.chip.jpg',\n",
       " '15_0_3_20170104225906465.jpg.chip.jpg',\n",
       " '15_0_3_20170104230418059.jpg.chip.jpg',\n",
       " '15_0_3_20170105183235993.jpg.chip.jpg',\n",
       " '15_0_3_20170110225627090.jpg.chip.jpg',\n",
       " '15_0_4_20170103201002253.jpg.chip.jpg',\n",
       " '15_0_4_20170103201013615.jpg.chip.jpg',\n",
       " '15_0_4_20170103233214059.jpg.chip.jpg',\n",
       " '15_0_4_20170104011201568.jpg.chip.jpg',\n",
       " '15_0_4_20170110232416743.jpg.chip.jpg',\n",
       " '15_1_0_20170103200925950.jpg.chip.jpg',\n",
       " '15_1_0_20170103201148510.jpg.chip.jpg',\n",
       " '15_1_0_20170103201844088.jpg.chip.jpg',\n",
       " '15_1_0_20170104013418578.jpg.chip.jpg',\n",
       " '15_1_0_20170104013549874.jpg.chip.jpg',\n",
       " '15_1_0_20170105000525758.jpg.chip.jpg',\n",
       " '15_1_0_20170109203414090.jpg.chip.jpg',\n",
       " '15_1_0_20170109203912357.jpg.chip.jpg',\n",
       " '15_1_0_20170109204142217.jpg.chip.jpg',\n",
       " '15_1_0_20170109204150999.jpg.chip.jpg',\n",
       " '15_1_0_20170109204203014.jpg.chip.jpg',\n",
       " '15_1_0_20170109204210842.jpg.chip.jpg',\n",
       " '15_1_0_20170109204237329.jpg.chip.jpg',\n",
       " '15_1_0_20170109204314585.jpg.chip.jpg',\n",
       " '15_1_0_20170109204354264.jpg.chip.jpg',\n",
       " '15_1_0_20170109204416506.jpg.chip.jpg',\n",
       " '15_1_0_20170109212807412.jpg.chip.jpg',\n",
       " '15_1_0_20170109213421667.jpg.chip.jpg',\n",
       " '15_1_0_20170109213427133.jpg.chip.jpg',\n",
       " '15_1_0_20170109213448729.jpg.chip.jpg',\n",
       " '15_1_0_20170109213511851.jpg.chip.jpg',\n",
       " '15_1_0_20170109213537150.jpg.chip.jpg',\n",
       " '15_1_0_20170109213555287.jpg.chip.jpg',\n",
       " '15_1_0_20170109213613605.jpg.chip.jpg',\n",
       " '15_1_0_20170109214024612.jpg.chip.jpg',\n",
       " '15_1_0_20170109214058590.jpg.chip.jpg',\n",
       " '15_1_0_20170109214133273.jpg.chip.jpg',\n",
       " '15_1_0_20170109214302271.jpg.chip.jpg',\n",
       " '15_1_0_20170109214307598.jpg.chip.jpg',\n",
       " '15_1_0_20170109214319385.jpg.chip.jpg',\n",
       " '15_1_0_20170109214328421.jpg.chip.jpg',\n",
       " '15_1_0_20170109214352795.jpg.chip.jpg',\n",
       " '15_1_0_20170109214409051.jpg.chip.jpg',\n",
       " '15_1_0_20170109214412116.jpg.chip.jpg',\n",
       " '15_1_0_20170109214447621.jpg.chip.jpg',\n",
       " '15_1_0_20170109214516641.jpg.chip.jpg',\n",
       " '15_1_0_20170109214523308.jpg.chip.jpg',\n",
       " '15_1_0_20170109214626752.jpg.chip.jpg',\n",
       " '15_1_0_20170109214633067.jpg.chip.jpg',\n",
       " '15_1_0_20170109214723528.jpg.chip.jpg',\n",
       " '15_1_0_20170116201351655.jpg.chip.jpg',\n",
       " '15_1_0_20170116232438243.jpg.chip.jpg',\n",
       " '15_1_0_20170117134420894.jpg.chip.jpg',\n",
       " '15_1_1_20170104005130400.jpg.chip.jpg',\n",
       " '15_1_1_20170104011851042.jpg.chip.jpg',\n",
       " '15_1_1_20170104012002526.jpg.chip.jpg',\n",
       " '15_1_1_20170109212440397.jpg.chip.jpg',\n",
       " '15_1_1_20170109214142778.jpg.chip.jpg',\n",
       " '15_1_1_20170112191208424.jpg.chip.jpg',\n",
       " '15_1_1_20170112191212510.jpg.chip.jpg',\n",
       " '15_1_1_20170112191307797.jpg.chip.jpg',\n",
       " '15_1_1_20170112210325253.jpg.chip.jpg',\n",
       " '15_1_1_20170112230538604.jpg.chip.jpg',\n",
       " '15_1_1_20170112230550725.jpg.chip.jpg',\n",
       " '15_1_1_20170116000638538.jpg.chip.jpg',\n",
       " '15_1_1_20170116164052068.jpg.chip.jpg',\n",
       " '15_1_2_20161219190855506.jpg.chip.jpg',\n",
       " '15_1_2_20161219193333691.jpg.chip.jpg',\n",
       " '15_1_2_20170102234824195.jpg.chip.jpg',\n",
       " '15_1_2_20170104012024121.jpg.chip.jpg',\n",
       " '15_1_2_20170104012031136.jpg.chip.jpg',\n",
       " '15_1_2_20170104012441969.jpg.chip.jpg',\n",
       " '15_1_2_20170104013425867.jpg.chip.jpg',\n",
       " '15_1_2_20170104015856031.jpg.chip.jpg',\n",
       " '15_1_2_20170116175234078.jpg.chip.jpg',\n",
       " '15_1_3_20161220145451968.jpg.chip.jpg',\n",
       " '15_1_3_20170104221641789.jpg.chip.jpg',\n",
       " '15_1_3_20170104221722328.jpg.chip.jpg',\n",
       " '15_1_3_20170104221725742.jpg.chip.jpg',\n",
       " '15_1_3_20170104221933959.jpg.chip.jpg',\n",
       " '15_1_3_20170104222007428.jpg.chip.jpg',\n",
       " '15_1_3_20170104222011950.jpg.chip.jpg',\n",
       " '15_1_3_20170104222618503.jpg.chip.jpg',\n",
       " '15_1_3_20170117142502538.jpg.chip.jpg',\n",
       " '15_1_3_20170119164417238.jpg.chip.jpg',\n",
       " '15_1_4_20170103200935782.jpg.chip.jpg',\n",
       " '15_1_4_20170103201201509.jpg.chip.jpg',\n",
       " '15_1_4_20170103201247846.jpg.chip.jpg',\n",
       " '15_1_4_20170103201254359.jpg.chip.jpg',\n",
       " '15_1_4_20170103201329807.jpg.chip.jpg',\n",
       " '15_1_4_20170103201445071.jpg.chip.jpg',\n",
       " '15_1_4_20170103214742821.jpg.chip.jpg',\n",
       " '15_1_4_20170103222927064.jpg.chip.jpg',\n",
       " '15_1_4_20170103223416559.jpg.chip.jpg',\n",
       " '15_1_4_20170103230530985.jpg.chip.jpg',\n",
       " '15_1_4_20170103233208315.jpg.chip.jpg',\n",
       " '15_1_4_20170103233304142.jpg.chip.jpg',\n",
       " '15_1_4_20170103233348795.jpg.chip.jpg',\n",
       " '15_1_4_20170103233356803.jpg.chip.jpg',\n",
       " '15_1_4_20170103233441003.jpg.chip.jpg',\n",
       " '15_1_4_20170103234910356.jpg.chip.jpg',\n",
       " '15_1_4_20170104005807401.jpg.chip.jpg',\n",
       " '15_1_4_20170104005847968.jpg.chip.jpg',\n",
       " '15_1_4_20170109212947695.jpg.chip.jpg',\n",
       " '16_0_0_20170102234641453.jpg.chip.jpg',\n",
       " '16_0_0_20170103201044224.jpg.chip.jpg',\n",
       " '16_0_0_20170104003740977.jpg.chip.jpg',\n",
       " '16_0_0_20170104003750790.jpg.chip.jpg',\n",
       " '16_0_0_20170104012305505.jpg.chip.jpg',\n",
       " '16_0_0_20170104012325066.jpg.chip.jpg',\n",
       " '16_0_0_20170104012330536.jpg.chip.jpg',\n",
       " '16_0_0_20170104012457770.jpg.chip.jpg',\n",
       " '16_0_0_20170104230001113.jpg.chip.jpg',\n",
       " '16_0_0_20170110224435349.jpg.chip.jpg',\n",
       " '16_0_0_20170110225310813.jpg.chip.jpg',\n",
       " '16_0_0_20170110225708208.jpg.chip.jpg',\n",
       " '16_0_0_20170110225715009.jpg.chip.jpg',\n",
       " '16_0_0_20170110231215944.jpg.chip.jpg',\n",
       " '16_0_0_20170110231218369.jpg.chip.jpg',\n",
       " '16_0_0_20170110231219975.jpg.chip.jpg',\n",
       " '16_0_0_20170110231221050.jpg.chip.jpg',\n",
       " '16_0_0_20170110231230149.jpg.chip.jpg',\n",
       " '16_0_0_20170110231517869.jpg.chip.jpg',\n",
       " '16_0_0_20170110231520320.jpg.chip.jpg',\n",
       " '16_0_0_20170110231521377.jpg.chip.jpg',\n",
       " '16_0_0_20170110231526097.jpg.chip.jpg',\n",
       " '16_0_0_20170110231527285.jpg.chip.jpg',\n",
       " '16_0_0_20170110231529568.jpg.chip.jpg',\n",
       " '16_0_0_20170110231532894.jpg.chip.jpg',\n",
       " '16_0_0_20170110231533988.jpg.chip.jpg',\n",
       " '16_0_0_20170110231553413.jpg.chip.jpg',\n",
       " '16_0_0_20170110231617005.jpg.chip.jpg',\n",
       " '16_0_0_20170110231627902.jpg.chip.jpg',\n",
       " '16_0_0_20170110231633585.jpg.chip.jpg',\n",
       " '16_0_0_20170110231636100.jpg.chip.jpg',\n",
       " '16_0_0_20170110231645188.jpg.chip.jpg',\n",
       " '16_0_0_20170110231646278.jpg.chip.jpg',\n",
       " '16_0_0_20170110231647118.jpg.chip.jpg',\n",
       " '16_0_0_20170110231647962.jpg.chip.jpg',\n",
       " '16_0_0_20170110231648820.jpg.chip.jpg',\n",
       " '16_0_0_20170110231700274.jpg.chip.jpg',\n",
       " '16_0_0_20170110231707270.jpg.chip.jpg',\n",
       " '16_0_0_20170110231720674.jpg.chip.jpg',\n",
       " '16_0_0_20170110231725022.jpg.chip.jpg',\n",
       " '16_0_0_20170110231726179.jpg.chip.jpg',\n",
       " '16_0_0_20170110231732210.jpg.chip.jpg',\n",
       " '16_0_0_20170110231736665.jpg.chip.jpg',\n",
       " '16_0_0_20170110231756634.jpg.chip.jpg',\n",
       " '16_0_0_20170110231758466.jpg.chip.jpg',\n",
       " '16_0_0_20170110231759619.jpg.chip.jpg',\n",
       " '16_0_0_20170110231801615.jpg.chip.jpg',\n",
       " '16_0_0_20170110231810810.jpg.chip.jpg',\n",
       " '16_0_0_20170110231811882.jpg.chip.jpg',\n",
       " '16_0_0_20170110231814139.jpg.chip.jpg',\n",
       " '16_0_0_20170110231815815.jpg.chip.jpg',\n",
       " '16_0_0_20170110231841292.jpg.chip.jpg',\n",
       " '16_0_0_20170110231904662.jpg.chip.jpg',\n",
       " '16_0_0_20170110231909175.jpg.chip.jpg',\n",
       " '16_0_0_20170110231910518.jpg.chip.jpg',\n",
       " '16_0_0_20170110231914222.jpg.chip.jpg',\n",
       " '16_0_0_20170110231916206.jpg.chip.jpg',\n",
       " '16_0_0_20170110231917206.jpg.chip.jpg',\n",
       " '16_0_0_20170110231918993.jpg.chip.jpg',\n",
       " '16_0_0_20170110231919941.jpg.chip.jpg',\n",
       " '16_0_0_20170110231944071.jpg.chip.jpg',\n",
       " '16_0_0_20170110232012908.jpg.chip.jpg',\n",
       " '16_0_0_20170110232038257.jpg.chip.jpg',\n",
       " '16_0_0_20170110232039461.jpg.chip.jpg',\n",
       " '16_0_0_20170110232040957.jpg.chip.jpg',\n",
       " '16_0_0_20170110232108336.jpg.chip.jpg',\n",
       " '16_0_0_20170110232111509.jpg.chip.jpg',\n",
       " '16_0_0_20170110232113589.jpg.chip.jpg',\n",
       " '16_0_0_20170110232141846.jpg.chip.jpg',\n",
       " '16_0_0_20170110232142982.jpg.chip.jpg',\n",
       " '16_0_0_20170110232200900.jpg.chip.jpg',\n",
       " '16_0_0_20170110232208589.jpg.chip.jpg',\n",
       " '16_0_0_20170110232217844.jpg.chip.jpg',\n",
       " '16_0_0_20170110232218902.jpg.chip.jpg',\n",
       " '16_0_0_20170110232245640.jpg.chip.jpg',\n",
       " '16_0_0_20170110232259630.jpg.chip.jpg',\n",
       " '16_0_0_20170110232301837.jpg.chip.jpg',\n",
       " '16_0_0_20170110232302818.jpg.chip.jpg',\n",
       " '16_0_0_20170110232307970.jpg.chip.jpg',\n",
       " '16_0_0_20170110232313053.jpg.chip.jpg',\n",
       " '16_0_0_20170110232315216.jpg.chip.jpg',\n",
       " '16_0_0_20170110232316211.jpg.chip.jpg',\n",
       " '16_0_0_20170110232332618.jpg.chip.jpg',\n",
       " '16_0_0_20170110232429214.jpg.chip.jpg',\n",
       " '16_0_0_20170110232432328.jpg.chip.jpg',\n",
       " '16_0_0_20170110232434079.jpg.chip.jpg',\n",
       " '16_0_0_20170110232444834.jpg.chip.jpg',\n",
       " '16_0_0_20170110232450588.jpg.chip.jpg',\n",
       " '16_0_0_20170110232451479.jpg.chip.jpg',\n",
       " '16_0_0_20170110232528586.jpg.chip.jpg',\n",
       " '16_0_0_20170110232605131.jpg.chip.jpg',\n",
       " '16_0_0_20170110232611516.jpg.chip.jpg',\n",
       " '16_0_0_20170110232613101.jpg.chip.jpg',\n",
       " '16_0_0_20170110232647979.jpg.chip.jpg',\n",
       " '16_0_0_20170110232714508.jpg.chip.jpg',\n",
       " '16_0_0_20170110232724382.jpg.chip.jpg',\n",
       " '16_0_0_20170110232725516.jpg.chip.jpg',\n",
       " '16_0_0_20170110232741392.jpg.chip.jpg',\n",
       " '16_0_0_20170110232742700.jpg.chip.jpg',\n",
       " '16_0_0_20170110232757924.jpg.chip.jpg',\n",
       " '16_0_0_20170110232803098.jpg.chip.jpg',\n",
       " '16_0_0_20170110232817061.jpg.chip.jpg',\n",
       " '16_0_0_20170110232818695.jpg.chip.jpg',\n",
       " '16_0_0_20170116201106640.jpg.chip.jpg',\n",
       " '16_0_0_20170116201208865.jpg.chip.jpg',\n",
       " '16_0_0_20170116235030195.jpg.chip.jpg',\n",
       " '16_0_0_20170117134536197.jpg.chip.jpg',\n",
       " '16_0_0_20170117134538670.jpg.chip.jpg',\n",
       " '16_0_0_20170120133327900.jpg.chip.jpg',\n",
       " '16_0_1_20170105183511375.jpg.chip.jpg',\n",
       " '16_0_1_20170110231713914.jpg.chip.jpg',\n",
       " '16_0_1_20170110231925176.jpg.chip.jpg',\n",
       " '16_0_1_20170113152759697.jpg.chip.jpg',\n",
       " '16_0_1_20170113155247627.jpg.chip.jpg',\n",
       " '16_0_1_20170116161243731.jpg.chip.jpg',\n",
       " '16_0_1_20170116200802213.jpg.chip.jpg',\n",
       " '16_0_1_20170116214124311.jpg.chip.jpg',\n",
       " '16_0_1_20170116214205175.jpg.chip.jpg',\n",
       " '16_0_1_20170120134502877.jpg.chip.jpg',\n",
       " '16_0_2_20170110232739283.jpg.chip.jpg',\n",
       " '16_0_2_20170116161447624.jpg.chip.jpg',\n",
       " '16_0_3_20170110231223673.jpg.chip.jpg',\n",
       " '16_0_3_20170110232150874.jpg.chip.jpg',\n",
       " '16_0_3_20170110232812662.jpg.chip.jpg',\n",
       " '16_0_3_20170116030352295.jpg.chip.jpg',\n",
       " '16_0_4_20161221200238647.jpg.chip.jpg',\n",
       " '16_0_4_20170102234702965.jpg.chip.jpg',\n",
       " '16_0_4_20170103201427977.jpg.chip.jpg',\n",
       " '16_0_4_20170103205822811.jpg.chip.jpg',\n",
       " '16_0_4_20170103233832570.jpg.chip.jpg',\n",
       " '16_0_4_20170104011805376.jpg.chip.jpg',\n",
       " '16_0_4_20170110231631592.jpg.chip.jpg',\n",
       " '16_0_4_20170110232131606.jpg.chip.jpg',\n",
       " '16_1_0_20170102234708483.jpg.chip.jpg',\n",
       " '16_1_0_20170102234728107.jpg.chip.jpg',\n",
       " '16_1_0_20170102234805899.jpg.chip.jpg',\n",
       " '16_1_0_20170102234927276.jpg.chip.jpg',\n",
       " '16_1_0_20170103163010615.jpg.chip.jpg',\n",
       " '16_1_0_20170103201016775.jpg.chip.jpg',\n",
       " '16_1_0_20170103201213287.jpg.chip.jpg',\n",
       " '16_1_0_20170103201347823.jpg.chip.jpg',\n",
       " '16_1_0_20170103201602647.jpg.chip.jpg',\n",
       " '16_1_0_20170104011815680.jpg.chip.jpg',\n",
       " '16_1_0_20170104012333393.jpg.chip.jpg',\n",
       " '16_1_0_20170104012420681.jpg.chip.jpg',\n",
       " '16_1_0_20170104013358122.jpg.chip.jpg',\n",
       " '16_1_0_20170104013530988.jpg.chip.jpg',\n",
       " '16_1_0_20170104013543170.jpg.chip.jpg',\n",
       " '16_1_0_20170105000703117.jpg.chip.jpg',\n",
       " '16_1_0_20170105000748206.jpg.chip.jpg',\n",
       " '16_1_0_20170109201603478.jpg.chip.jpg',\n",
       " '16_1_0_20170109203419299.jpg.chip.jpg',\n",
       " '16_1_0_20170109204155179.jpg.chip.jpg',\n",
       " '16_1_0_20170109204349968.jpg.chip.jpg',\n",
       " '16_1_0_20170109204409777.jpg.chip.jpg',\n",
       " '16_1_0_20170109204530608.jpg.chip.jpg',\n",
       " '16_1_0_20170109205435776.jpg.chip.jpg',\n",
       " '16_1_0_20170109212357604.jpg.chip.jpg',\n",
       " '16_1_0_20170109212413425.jpg.chip.jpg',\n",
       " '16_1_0_20170109212446278.jpg.chip.jpg',\n",
       " '16_1_0_20170109212513215.jpg.chip.jpg',\n",
       " '16_1_0_20170109212525685.jpg.chip.jpg',\n",
       " '16_1_0_20170109212548663.jpg.chip.jpg',\n",
       " '16_1_0_20170109212802540.jpg.chip.jpg',\n",
       " '16_1_0_20170109212859323.jpg.chip.jpg',\n",
       " '16_1_0_20170109212959831.jpg.chip.jpg',\n",
       " '16_1_0_20170109213003514.jpg.chip.jpg',\n",
       " '16_1_0_20170109213007401.jpg.chip.jpg',\n",
       " '16_1_0_20170109213044006.jpg.chip.jpg',\n",
       " '16_1_0_20170109213117588.jpg.chip.jpg',\n",
       " '16_1_0_20170109213357694.jpg.chip.jpg',\n",
       " '16_1_0_20170109213440225.jpg.chip.jpg',\n",
       " '16_1_0_20170109213443708.jpg.chip.jpg',\n",
       " '16_1_0_20170109213456322.jpg.chip.jpg',\n",
       " '16_1_0_20170109213504335.jpg.chip.jpg',\n",
       " '16_1_0_20170109213604149.jpg.chip.jpg',\n",
       " '16_1_0_20170109213608540.jpg.chip.jpg',\n",
       " '16_1_0_20170109213948727.jpg.chip.jpg',\n",
       " '16_1_0_20170109213954271.jpg.chip.jpg',\n",
       " '16_1_0_20170109214013596.jpg.chip.jpg',\n",
       " '16_1_0_20170109214102958.jpg.chip.jpg',\n",
       " '16_1_0_20170109214138699.jpg.chip.jpg',\n",
       " '16_1_0_20170109214323254.jpg.chip.jpg',\n",
       " '16_1_0_20170109214333355.jpg.chip.jpg',\n",
       " '16_1_0_20170109214342165.jpg.chip.jpg',\n",
       " '16_1_0_20170109214402325.jpg.chip.jpg',\n",
       " '16_1_0_20170109214415828.jpg.chip.jpg',\n",
       " '16_1_0_20170109214419099.jpg.chip.jpg',\n",
       " '16_1_0_20170109214444528.jpg.chip.jpg',\n",
       " '16_1_0_20170109214508303.jpg.chip.jpg',\n",
       " '16_1_0_20170109214519974.jpg.chip.jpg',\n",
       " '16_1_0_20170109214535714.jpg.chip.jpg',\n",
       " '16_1_0_20170109214605824.jpg.chip.jpg',\n",
       " '16_1_0_20170109214621700.jpg.chip.jpg',\n",
       " '16_1_0_20170109214652137.jpg.chip.jpg',\n",
       " '16_1_0_20170109214719630.jpg.chip.jpg',\n",
       " '16_1_0_20170109214757287.jpg.chip.jpg',\n",
       " '16_1_0_20170112230646758.jpg.chip.jpg',\n",
       " '16_1_0_20170113210605072.jpg.chip.jpg',\n",
       " '16_1_0_20170116000649066.jpg.chip.jpg',\n",
       " '16_1_0_20170116204045849.jpg.chip.jpg',\n",
       " '16_1_0_20170116214318225.jpg.chip.jpg',\n",
       " ...]"
      ]
     },
     "execution_count": 5,
     "metadata": {},
     "output_type": "execute_result"
    }
   ],
   "source": [
    "#Accessing all image file names to get ages\n",
    "utkface_path = ('data/UTKFace')\n",
    "utkface_image_names = os.listdir(utkface_path)\n",
    "utkface_image_names"
   ]
  },
  {
   "cell_type": "code",
   "execution_count": 6,
   "metadata": {},
   "outputs": [],
   "source": [
    "# function to generate the labels from the image file names according to the format given above.\n",
    "\n",
    "def age_gender_race_split(image_name):\n",
    "    \n",
    "    \"\"\" This function generates labels from the image file names\"\"\"\n",
    "\n",
    "    image_labels = image_name.split('_')\n",
    "    age = image_labels[0]\n",
    "    gender = image_labels[1]\n",
    "    race = image_labels[2]\n",
    "    timestamp=image_labels[-1]\n",
    "    \n",
    "\n",
    "    return (age, gender, race, timestamp)\n",
    "     "
   ]
  },
  {
   "cell_type": "code",
   "execution_count": 7,
   "metadata": {},
   "outputs": [],
   "source": [
    "#using for loops to store labels in relevant arrays relevant \n",
    "age_labels = np.array([])\n",
    "gender_labels = np.array([])\n",
    "race_labels = np.array([])\n",
    "timestamp_labels=np.array([])\n",
    "\n",
    "for image in utkface_image_names:\n",
    "    age, gender, race,timestamp = age_gender_race_split(image)\n",
    "    age_labels = np.append(age_labels, age)\n",
    "    gender_labels = np.append(gender_labels, gender)\n",
    "    race_labels = np.append(race_labels, race)\n",
    "    timestamp_labels=np.append(timestamp_labels, timestamp)"
   ]
  },
  {
   "cell_type": "code",
   "execution_count": 8,
   "metadata": {},
   "outputs": [
    {
     "data": {
      "text/html": [
       "<div>\n",
       "<style scoped>\n",
       "    .dataframe tbody tr th:only-of-type {\n",
       "        vertical-align: middle;\n",
       "    }\n",
       "\n",
       "    .dataframe tbody tr th {\n",
       "        vertical-align: top;\n",
       "    }\n",
       "\n",
       "    .dataframe thead th {\n",
       "        text-align: right;\n",
       "    }\n",
       "</style>\n",
       "<table border=\"1\" class=\"dataframe\">\n",
       "  <thead>\n",
       "    <tr style=\"text-align: right;\">\n",
       "      <th></th>\n",
       "      <th>Ages</th>\n",
       "      <th>Races</th>\n",
       "      <th>Genders</th>\n",
       "      <th>Timestamp</th>\n",
       "    </tr>\n",
       "  </thead>\n",
       "  <tbody>\n",
       "    <tr>\n",
       "      <th>0</th>\n",
       "      <td>100</td>\n",
       "      <td>0</td>\n",
       "      <td>0</td>\n",
       "      <td>20170112213500903.jpg.chip.jpg</td>\n",
       "    </tr>\n",
       "    <tr>\n",
       "      <th>1</th>\n",
       "      <td>100</td>\n",
       "      <td>0</td>\n",
       "      <td>0</td>\n",
       "      <td>20170112215240346.jpg.chip.jpg</td>\n",
       "    </tr>\n",
       "    <tr>\n",
       "      <th>2</th>\n",
       "      <td>100</td>\n",
       "      <td>0</td>\n",
       "      <td>1</td>\n",
       "      <td>20170110183726390.jpg.chip.jpg</td>\n",
       "    </tr>\n",
       "    <tr>\n",
       "      <th>3</th>\n",
       "      <td>100</td>\n",
       "      <td>0</td>\n",
       "      <td>1</td>\n",
       "      <td>20170112213001988.jpg.chip.jpg</td>\n",
       "    </tr>\n",
       "    <tr>\n",
       "      <th>4</th>\n",
       "      <td>100</td>\n",
       "      <td>0</td>\n",
       "      <td>1</td>\n",
       "      <td>20170112213303693.jpg.chip.jpg</td>\n",
       "    </tr>\n",
       "  </tbody>\n",
       "</table>\n",
       "</div>"
      ],
      "text/plain": [
       "  Ages Races Genders                       Timestamp\n",
       "0  100     0       0  20170112213500903.jpg.chip.jpg\n",
       "1  100     0       0  20170112215240346.jpg.chip.jpg\n",
       "2  100     0       1  20170110183726390.jpg.chip.jpg\n",
       "3  100     0       1  20170112213001988.jpg.chip.jpg\n",
       "4  100     0       1  20170112213303693.jpg.chip.jpg"
      ]
     },
     "execution_count": 8,
     "metadata": {},
     "output_type": "execute_result"
    }
   ],
   "source": [
    "age = pd.Series(age_labels, name = 'Ages')\n",
    "gender = pd.Series(gender_labels, name = 'Genders')\n",
    "race = pd.Series(race_labels, name=\"Races\")\n",
    "timestamp=pd.Series(timestamp_labels, name=\"Timestamp\")\n",
    "df = pd.concat([age, race, gender, timestamp], axis=1)\n",
    "df.head()"
   ]
  },
  {
   "cell_type": "code",
   "execution_count": 9,
   "metadata": {
    "scrolled": true
   },
   "outputs": [
    {
     "data": {
      "text/plain": [
       "26     2197\n",
       "1      1123\n",
       "28      918\n",
       "35      880\n",
       "24      859\n",
       "       ... \n",
       "115       3\n",
       "101       2\n",
       "91        2\n",
       "103       1\n",
       "111       1\n",
       "Name: Ages, Length: 104, dtype: int64"
      ]
     },
     "execution_count": 9,
     "metadata": {},
     "output_type": "execute_result"
    }
   ],
   "source": [
    "#getting value counts for Age column\n",
    "age_counts=df['Ages'].value_counts()\n",
    "age_counts"
   ]
  },
  {
   "cell_type": "code",
   "execution_count": 10,
   "metadata": {},
   "outputs": [
    {
     "data": {
      "text/plain": [
       "0                                 10078\n",
       "1                                  4526\n",
       "3                                  3975\n",
       "2                                  3434\n",
       "4                                  1692\n",
       "20170109150557335.jpg.chip.jpg        1\n",
       "20170116174525125.jpg.chip.jpg        1\n",
       "20170109142408075.jpg.chip.jpg        1\n",
       "Name: Races, dtype: int64"
      ]
     },
     "execution_count": 10,
     "metadata": {},
     "output_type": "execute_result"
    }
   ],
   "source": [
    "#getting value counts for Race\n",
    "race_counts=df['Races'].value_counts()\n",
    "race_counts"
   ]
  },
  {
   "cell_type": "markdown",
   "metadata": {},
   "source": [
    "We have noticed there are 3 rows that do not follow naming convention. We will handle this in Data preparation"
   ]
  },
  {
   "cell_type": "code",
   "execution_count": 11,
   "metadata": {},
   "outputs": [
    {
     "data": {
      "text/plain": [
       "0    12391\n",
       "1    11317\n",
       "Name: Genders, dtype: int64"
      ]
     },
     "execution_count": 11,
     "metadata": {},
     "output_type": "execute_result"
    }
   ],
   "source": [
    "gender_counts= df['Genders'].value_counts()\n",
    "gender_counts"
   ]
  },
  {
   "cell_type": "code",
   "execution_count": 12,
   "metadata": {},
   "outputs": [],
   "source": [
    "class DataUnderstanding(object):\n",
    "    \"\"\"This is a class that does basic data understanding\"\"\"\n",
    "    def __init__(self, df):\n",
    "        self.shape = df.shape\n",
    "        self.info = df.info\n",
    "        self.duplicates = df.duplicated().sum()\n",
    "        self.missing = df.isna().sum()\n",
    "        self.types = df.dtypes\n"
   ]
  },
  {
   "cell_type": "code",
   "execution_count": 13,
   "metadata": {},
   "outputs": [],
   "source": [
    "#instantiating the classes\n",
    "dataund= DataUnderstanding(df)"
   ]
  },
  {
   "cell_type": "code",
   "execution_count": 14,
   "metadata": {},
   "outputs": [
    {
     "name": "stdout",
     "output_type": "stream",
     "text": [
      "shape:(23708, 4)\n"
     ]
    }
   ],
   "source": [
    "#Getting the shape of the dataset\n",
    "print(f\"shape:{dataund.shape}\")"
   ]
  },
  {
   "cell_type": "code",
   "execution_count": 15,
   "metadata": {},
   "outputs": [
    {
     "name": "stdout",
     "output_type": "stream",
     "text": [
      "<class 'pandas.core.frame.DataFrame'>\n",
      "RangeIndex: 23708 entries, 0 to 23707\n",
      "Data columns (total 4 columns):\n",
      " #   Column     Non-Null Count  Dtype \n",
      "---  ------     --------------  ----- \n",
      " 0   Ages       23708 non-null  object\n",
      " 1   Races      23708 non-null  object\n",
      " 2   Genders    23708 non-null  object\n",
      " 3   Timestamp  23708 non-null  object\n",
      "dtypes: object(4)\n",
      "memory usage: 741.0+ KB\n",
      "None\n"
     ]
    }
   ],
   "source": [
    "#getting the info of the data\n",
    "print(dataund.info())"
   ]
  },
  {
   "cell_type": "markdown",
   "metadata": {},
   "source": [
    "we can see that the dataset contains 23708 rows and 3 columns.The 3 columns has data type  string.We can also see there are no null values."
   ]
  },
  {
   "cell_type": "code",
   "execution_count": 16,
   "metadata": {},
   "outputs": [
    {
     "data": {
      "text/plain": [
       "Ages         0\n",
       "Races        0\n",
       "Genders      0\n",
       "Timestamp    0\n",
       "dtype: int64"
      ]
     },
     "execution_count": 16,
     "metadata": {},
     "output_type": "execute_result"
    }
   ],
   "source": [
    "#getting the missing values\n",
    "dataund.missing"
   ]
  },
  {
   "cell_type": "markdown",
   "metadata": {},
   "source": [
    "There are no missing values."
   ]
  },
  {
   "cell_type": "code",
   "execution_count": 17,
   "metadata": {},
   "outputs": [
    {
     "data": {
      "text/plain": [
       "Ages         object\n",
       "Races        object\n",
       "Genders      object\n",
       "Timestamp    object\n",
       "dtype: object"
      ]
     },
     "execution_count": 17,
     "metadata": {},
     "output_type": "execute_result"
    }
   ],
   "source": [
    "#checking the data types\n",
    "dataund.types"
   ]
  },
  {
   "cell_type": "markdown",
   "metadata": {},
   "source": [
    "The 3 columns have object data type"
   ]
  },
  {
   "cell_type": "code",
   "execution_count": 18,
   "metadata": {},
   "outputs": [
    {
     "name": "stdout",
     "output_type": "stream",
     "text": [
      "Duplictes:0\n"
     ]
    }
   ],
   "source": [
    "#checking for duplicates\n",
    "print(f\"Duplictes:{dataund.duplicates.sum()}\")"
   ]
  },
  {
   "cell_type": "markdown",
   "metadata": {},
   "source": [
    "There are no duplicates this is attributed to the inclusion of date and time column."
   ]
  },
  {
   "cell_type": "markdown",
   "metadata": {},
   "source": [
    "## DATA PREPARATION"
   ]
  },
  {
   "cell_type": "code",
   "execution_count": 19,
   "metadata": {},
   "outputs": [
    {
     "name": "stdout",
     "output_type": "stream",
     "text": [
      "Shape:(23705, 4)\n"
     ]
    }
   ],
   "source": [
    "#dropping rows \n",
    "df = df[df.Races.isin([\"0\",\"1\",\"2\",\"3\",\"4\"])]\n",
    "dataund= DataUnderstanding(df)\n",
    "print(f\"Shape:{dataund.shape}\")\n"
   ]
  },
  {
   "cell_type": "markdown",
   "metadata": {},
   "source": [
    "After dropping the three rows we have 23705 rows."
   ]
  },
  {
   "cell_type": "code",
   "execution_count": 115,
   "metadata": {},
   "outputs": [],
   "source": [
    "for time in timestamp:\n",
    "  parts = time.split(\".\")\n",
    "  date_time = parts[0]\n",
    "  "
   ]
  },
  {
   "cell_type": "code",
   "execution_count": 21,
   "metadata": {},
   "outputs": [
    {
     "data": {
      "text/html": [
       "<div>\n",
       "<style scoped>\n",
       "    .dataframe tbody tr th:only-of-type {\n",
       "        vertical-align: middle;\n",
       "    }\n",
       "\n",
       "    .dataframe tbody tr th {\n",
       "        vertical-align: top;\n",
       "    }\n",
       "\n",
       "    .dataframe thead th {\n",
       "        text-align: right;\n",
       "    }\n",
       "</style>\n",
       "<table border=\"1\" class=\"dataframe\">\n",
       "  <thead>\n",
       "    <tr style=\"text-align: right;\">\n",
       "      <th></th>\n",
       "      <th>Ages</th>\n",
       "      <th>Races</th>\n",
       "      <th>Genders</th>\n",
       "      <th>Timestamp</th>\n",
       "    </tr>\n",
       "  </thead>\n",
       "  <tbody>\n",
       "    <tr>\n",
       "      <th>0</th>\n",
       "      <td>100</td>\n",
       "      <td>0</td>\n",
       "      <td>0</td>\n",
       "      <td>20170112213500903.jpg.chip.jpg</td>\n",
       "    </tr>\n",
       "    <tr>\n",
       "      <th>1</th>\n",
       "      <td>100</td>\n",
       "      <td>0</td>\n",
       "      <td>0</td>\n",
       "      <td>20170112215240346.jpg.chip.jpg</td>\n",
       "    </tr>\n",
       "    <tr>\n",
       "      <th>2</th>\n",
       "      <td>100</td>\n",
       "      <td>0</td>\n",
       "      <td>1</td>\n",
       "      <td>20170110183726390.jpg.chip.jpg</td>\n",
       "    </tr>\n",
       "    <tr>\n",
       "      <th>3</th>\n",
       "      <td>100</td>\n",
       "      <td>0</td>\n",
       "      <td>1</td>\n",
       "      <td>20170112213001988.jpg.chip.jpg</td>\n",
       "    </tr>\n",
       "    <tr>\n",
       "      <th>4</th>\n",
       "      <td>100</td>\n",
       "      <td>0</td>\n",
       "      <td>1</td>\n",
       "      <td>20170112213303693.jpg.chip.jpg</td>\n",
       "    </tr>\n",
       "    <tr>\n",
       "      <th>...</th>\n",
       "      <td>...</td>\n",
       "      <td>...</td>\n",
       "      <td>...</td>\n",
       "      <td>...</td>\n",
       "    </tr>\n",
       "    <tr>\n",
       "      <th>23703</th>\n",
       "      <td>9</td>\n",
       "      <td>3</td>\n",
       "      <td>1</td>\n",
       "      <td>20161220222856346.jpg.chip.jpg</td>\n",
       "    </tr>\n",
       "    <tr>\n",
       "      <th>23704</th>\n",
       "      <td>9</td>\n",
       "      <td>3</td>\n",
       "      <td>1</td>\n",
       "      <td>20170104222949455.jpg.chip.jpg</td>\n",
       "    </tr>\n",
       "    <tr>\n",
       "      <th>23705</th>\n",
       "      <td>9</td>\n",
       "      <td>4</td>\n",
       "      <td>1</td>\n",
       "      <td>20170103200637399.jpg.chip.jpg</td>\n",
       "    </tr>\n",
       "    <tr>\n",
       "      <th>23706</th>\n",
       "      <td>9</td>\n",
       "      <td>4</td>\n",
       "      <td>1</td>\n",
       "      <td>20170103200814791.jpg.chip.jpg</td>\n",
       "    </tr>\n",
       "    <tr>\n",
       "      <th>23707</th>\n",
       "      <td>9</td>\n",
       "      <td>4</td>\n",
       "      <td>1</td>\n",
       "      <td>20170103213057382.jpg.chip.jpg</td>\n",
       "    </tr>\n",
       "  </tbody>\n",
       "</table>\n",
       "<p>23705 rows × 4 columns</p>\n",
       "</div>"
      ],
      "text/plain": [
       "      Ages Races Genders                       Timestamp\n",
       "0      100     0       0  20170112213500903.jpg.chip.jpg\n",
       "1      100     0       0  20170112215240346.jpg.chip.jpg\n",
       "2      100     0       1  20170110183726390.jpg.chip.jpg\n",
       "3      100     0       1  20170112213001988.jpg.chip.jpg\n",
       "4      100     0       1  20170112213303693.jpg.chip.jpg\n",
       "...    ...   ...     ...                             ...\n",
       "23703    9     3       1  20161220222856346.jpg.chip.jpg\n",
       "23704    9     3       1  20170104222949455.jpg.chip.jpg\n",
       "23705    9     4       1  20170103200637399.jpg.chip.jpg\n",
       "23706    9     4       1  20170103200814791.jpg.chip.jpg\n",
       "23707    9     4       1  20170103213057382.jpg.chip.jpg\n",
       "\n",
       "[23705 rows x 4 columns]"
      ]
     },
     "execution_count": 21,
     "metadata": {},
     "output_type": "execute_result"
    }
   ],
   "source": [
    "df"
   ]
  },
  {
   "cell_type": "code",
   "execution_count": 22,
   "metadata": {},
   "outputs": [],
   "source": [
    "#splitting the timestamp column\n",
    "import datetime\n",
    "date = []\n",
    "for time in df[\"Timestamp\"]:\n",
    "    parts = time.split(\".\")\n",
    "    date_time = parts[0]\n",
    "    date_time = date_time.split(\" \")\n",
    "    date_time = date_time[-1][:8]\n",
    "    date.append(date_time)\n",
    "\n",
    "df['Timestamp'] = date  \n",
    "df[\"Timestamp\"]= pd.to_datetime(df['Timestamp'], infer_datetime_format=True)\n",
    "\n"
   ]
  },
  {
   "cell_type": "code",
   "execution_count": 23,
   "metadata": {},
   "outputs": [
    {
     "data": {
      "text/html": [
       "<div>\n",
       "<style scoped>\n",
       "    .dataframe tbody tr th:only-of-type {\n",
       "        vertical-align: middle;\n",
       "    }\n",
       "\n",
       "    .dataframe tbody tr th {\n",
       "        vertical-align: top;\n",
       "    }\n",
       "\n",
       "    .dataframe thead th {\n",
       "        text-align: right;\n",
       "    }\n",
       "</style>\n",
       "<table border=\"1\" class=\"dataframe\">\n",
       "  <thead>\n",
       "    <tr style=\"text-align: right;\">\n",
       "      <th></th>\n",
       "      <th>Ages</th>\n",
       "      <th>Races</th>\n",
       "      <th>Genders</th>\n",
       "      <th>Timestamp</th>\n",
       "      <th>Year</th>\n",
       "      <th>Month</th>\n",
       "      <th>Day</th>\n",
       "    </tr>\n",
       "  </thead>\n",
       "  <tbody>\n",
       "    <tr>\n",
       "      <th>0</th>\n",
       "      <td>100</td>\n",
       "      <td>0</td>\n",
       "      <td>0</td>\n",
       "      <td>2017-01-12</td>\n",
       "      <td>2017.0</td>\n",
       "      <td>1.0</td>\n",
       "      <td>12.0</td>\n",
       "    </tr>\n",
       "    <tr>\n",
       "      <th>1</th>\n",
       "      <td>100</td>\n",
       "      <td>0</td>\n",
       "      <td>0</td>\n",
       "      <td>2017-01-12</td>\n",
       "      <td>2017.0</td>\n",
       "      <td>1.0</td>\n",
       "      <td>12.0</td>\n",
       "    </tr>\n",
       "    <tr>\n",
       "      <th>2</th>\n",
       "      <td>100</td>\n",
       "      <td>0</td>\n",
       "      <td>1</td>\n",
       "      <td>2017-01-10</td>\n",
       "      <td>2017.0</td>\n",
       "      <td>1.0</td>\n",
       "      <td>10.0</td>\n",
       "    </tr>\n",
       "    <tr>\n",
       "      <th>3</th>\n",
       "      <td>100</td>\n",
       "      <td>0</td>\n",
       "      <td>1</td>\n",
       "      <td>2017-01-12</td>\n",
       "      <td>2017.0</td>\n",
       "      <td>1.0</td>\n",
       "      <td>12.0</td>\n",
       "    </tr>\n",
       "    <tr>\n",
       "      <th>4</th>\n",
       "      <td>100</td>\n",
       "      <td>0</td>\n",
       "      <td>1</td>\n",
       "      <td>2017-01-12</td>\n",
       "      <td>2017.0</td>\n",
       "      <td>1.0</td>\n",
       "      <td>12.0</td>\n",
       "    </tr>\n",
       "  </tbody>\n",
       "</table>\n",
       "</div>"
      ],
      "text/plain": [
       "  Ages Races Genders  Timestamp    Year  Month   Day\n",
       "0  100     0       0 2017-01-12  2017.0    1.0  12.0\n",
       "1  100     0       0 2017-01-12  2017.0    1.0  12.0\n",
       "2  100     0       1 2017-01-10  2017.0    1.0  10.0\n",
       "3  100     0       1 2017-01-12  2017.0    1.0  12.0\n",
       "4  100     0       1 2017-01-12  2017.0    1.0  12.0"
      ]
     },
     "execution_count": 23,
     "metadata": {},
     "output_type": "execute_result"
    }
   ],
   "source": [
    "# Create the Year, month and day columns\n",
    "df['Year'] = df['Timestamp'].dt.year\n",
    "df['Month'] = df['Timestamp'].dt.month\n",
    "df['Day'] = df['Timestamp'].dt.day\n",
    "df.head()"
   ]
  },
  {
   "cell_type": "code",
   "execution_count": 24,
   "metadata": {},
   "outputs": [
    {
     "data": {
      "text/html": [
       "<div>\n",
       "<style scoped>\n",
       "    .dataframe tbody tr th:only-of-type {\n",
       "        vertical-align: middle;\n",
       "    }\n",
       "\n",
       "    .dataframe tbody tr th {\n",
       "        vertical-align: top;\n",
       "    }\n",
       "\n",
       "    .dataframe thead th {\n",
       "        text-align: right;\n",
       "    }\n",
       "</style>\n",
       "<table border=\"1\" class=\"dataframe\">\n",
       "  <thead>\n",
       "    <tr style=\"text-align: right;\">\n",
       "      <th></th>\n",
       "      <th>Ages</th>\n",
       "      <th>Races</th>\n",
       "      <th>Genders</th>\n",
       "      <th>Timestamp</th>\n",
       "      <th>Year</th>\n",
       "      <th>Month</th>\n",
       "      <th>Day</th>\n",
       "    </tr>\n",
       "  </thead>\n",
       "  <tbody>\n",
       "    <tr>\n",
       "      <th>23703</th>\n",
       "      <td>9</td>\n",
       "      <td>3</td>\n",
       "      <td>1</td>\n",
       "      <td>2016-12-20</td>\n",
       "      <td>2016.0</td>\n",
       "      <td>12.0</td>\n",
       "      <td>20.0</td>\n",
       "    </tr>\n",
       "    <tr>\n",
       "      <th>23704</th>\n",
       "      <td>9</td>\n",
       "      <td>3</td>\n",
       "      <td>1</td>\n",
       "      <td>2017-01-04</td>\n",
       "      <td>2017.0</td>\n",
       "      <td>1.0</td>\n",
       "      <td>4.0</td>\n",
       "    </tr>\n",
       "    <tr>\n",
       "      <th>23705</th>\n",
       "      <td>9</td>\n",
       "      <td>4</td>\n",
       "      <td>1</td>\n",
       "      <td>2017-01-03</td>\n",
       "      <td>2017.0</td>\n",
       "      <td>1.0</td>\n",
       "      <td>3.0</td>\n",
       "    </tr>\n",
       "    <tr>\n",
       "      <th>23706</th>\n",
       "      <td>9</td>\n",
       "      <td>4</td>\n",
       "      <td>1</td>\n",
       "      <td>2017-01-03</td>\n",
       "      <td>2017.0</td>\n",
       "      <td>1.0</td>\n",
       "      <td>3.0</td>\n",
       "    </tr>\n",
       "    <tr>\n",
       "      <th>23707</th>\n",
       "      <td>9</td>\n",
       "      <td>4</td>\n",
       "      <td>1</td>\n",
       "      <td>2017-01-03</td>\n",
       "      <td>2017.0</td>\n",
       "      <td>1.0</td>\n",
       "      <td>3.0</td>\n",
       "    </tr>\n",
       "  </tbody>\n",
       "</table>\n",
       "</div>"
      ],
      "text/plain": [
       "      Ages Races Genders  Timestamp    Year  Month   Day\n",
       "23703    9     3       1 2016-12-20  2016.0   12.0  20.0\n",
       "23704    9     3       1 2017-01-04  2017.0    1.0   4.0\n",
       "23705    9     4       1 2017-01-03  2017.0    1.0   3.0\n",
       "23706    9     4       1 2017-01-03  2017.0    1.0   3.0\n",
       "23707    9     4       1 2017-01-03  2017.0    1.0   3.0"
      ]
     },
     "execution_count": 24,
     "metadata": {},
     "output_type": "execute_result"
    }
   ],
   "source": [
    "# Checking the last columns of the dataset\n",
    "df.tail()"
   ]
  },
  {
   "cell_type": "code",
   "execution_count": 25,
   "metadata": {},
   "outputs": [
    {
     "data": {
      "text/plain": [
       "Ages         0\n",
       "Races        0\n",
       "Genders      0\n",
       "Timestamp    1\n",
       "Year         1\n",
       "Month        1\n",
       "Day          1\n",
       "dtype: int64"
      ]
     },
     "execution_count": 25,
     "metadata": {},
     "output_type": "execute_result"
    }
   ],
   "source": [
    "# Checking for missing values\n",
    "dataund= DataUnderstanding(df)\n",
    "dataund.missing"
   ]
  },
  {
   "cell_type": "code",
   "execution_count": 26,
   "metadata": {},
   "outputs": [
    {
     "name": "stdout",
     "output_type": "stream",
     "text": [
      "Duplicates:20012\n"
     ]
    }
   ],
   "source": [
    "# Checking for duplicates\n",
    "print(f\"Duplicates:{dataund.duplicates.sum()}\")"
   ]
  },
  {
   "cell_type": "markdown",
   "metadata": {},
   "source": [
    "The duplicates come about since the majority of the images were taken on the same day"
   ]
  },
  {
   "cell_type": "code",
   "execution_count": 27,
   "metadata": {},
   "outputs": [
    {
     "data": {
      "text/html": [
       "<div>\n",
       "<style scoped>\n",
       "    .dataframe tbody tr th:only-of-type {\n",
       "        vertical-align: middle;\n",
       "    }\n",
       "\n",
       "    .dataframe tbody tr th {\n",
       "        vertical-align: top;\n",
       "    }\n",
       "\n",
       "    .dataframe thead th {\n",
       "        text-align: right;\n",
       "    }\n",
       "</style>\n",
       "<table border=\"1\" class=\"dataframe\">\n",
       "  <thead>\n",
       "    <tr style=\"text-align: right;\">\n",
       "      <th></th>\n",
       "      <th>Ages</th>\n",
       "      <th>Races</th>\n",
       "      <th>Genders</th>\n",
       "      <th>Timestamp</th>\n",
       "      <th>Year</th>\n",
       "      <th>Month</th>\n",
       "      <th>Day</th>\n",
       "    </tr>\n",
       "  </thead>\n",
       "  <tbody>\n",
       "    <tr>\n",
       "      <th>0</th>\n",
       "      <td>100</td>\n",
       "      <td>0</td>\n",
       "      <td>0</td>\n",
       "      <td>2017-01-12</td>\n",
       "      <td>2017.0</td>\n",
       "      <td>1.0</td>\n",
       "      <td>12.0</td>\n",
       "    </tr>\n",
       "    <tr>\n",
       "      <th>1</th>\n",
       "      <td>100</td>\n",
       "      <td>0</td>\n",
       "      <td>0</td>\n",
       "      <td>2017-01-12</td>\n",
       "      <td>2017.0</td>\n",
       "      <td>1.0</td>\n",
       "      <td>12.0</td>\n",
       "    </tr>\n",
       "    <tr>\n",
       "      <th>2</th>\n",
       "      <td>100</td>\n",
       "      <td>0</td>\n",
       "      <td>1</td>\n",
       "      <td>2017-01-10</td>\n",
       "      <td>2017.0</td>\n",
       "      <td>1.0</td>\n",
       "      <td>10.0</td>\n",
       "    </tr>\n",
       "    <tr>\n",
       "      <th>3</th>\n",
       "      <td>100</td>\n",
       "      <td>0</td>\n",
       "      <td>1</td>\n",
       "      <td>2017-01-12</td>\n",
       "      <td>2017.0</td>\n",
       "      <td>1.0</td>\n",
       "      <td>12.0</td>\n",
       "    </tr>\n",
       "    <tr>\n",
       "      <th>4</th>\n",
       "      <td>100</td>\n",
       "      <td>0</td>\n",
       "      <td>1</td>\n",
       "      <td>2017-01-12</td>\n",
       "      <td>2017.0</td>\n",
       "      <td>1.0</td>\n",
       "      <td>12.0</td>\n",
       "    </tr>\n",
       "    <tr>\n",
       "      <th>5</th>\n",
       "      <td>100</td>\n",
       "      <td>0</td>\n",
       "      <td>1</td>\n",
       "      <td>2017-01-12</td>\n",
       "      <td>2017.0</td>\n",
       "      <td>1.0</td>\n",
       "      <td>12.0</td>\n",
       "    </tr>\n",
       "    <tr>\n",
       "      <th>6</th>\n",
       "      <td>100</td>\n",
       "      <td>0</td>\n",
       "      <td>1</td>\n",
       "      <td>2017-01-17</td>\n",
       "      <td>2017.0</td>\n",
       "      <td>1.0</td>\n",
       "      <td>17.0</td>\n",
       "    </tr>\n",
       "    <tr>\n",
       "      <th>7</th>\n",
       "      <td>100</td>\n",
       "      <td>0</td>\n",
       "      <td>1</td>\n",
       "      <td>2017-01-19</td>\n",
       "      <td>2017.0</td>\n",
       "      <td>1.0</td>\n",
       "      <td>19.0</td>\n",
       "    </tr>\n",
       "    <tr>\n",
       "      <th>8</th>\n",
       "      <td>100</td>\n",
       "      <td>2</td>\n",
       "      <td>1</td>\n",
       "      <td>2017-01-05</td>\n",
       "      <td>2017.0</td>\n",
       "      <td>1.0</td>\n",
       "      <td>5.0</td>\n",
       "    </tr>\n",
       "    <tr>\n",
       "      <th>9</th>\n",
       "      <td>100</td>\n",
       "      <td>2</td>\n",
       "      <td>1</td>\n",
       "      <td>2017-01-12</td>\n",
       "      <td>2017.0</td>\n",
       "      <td>1.0</td>\n",
       "      <td>12.0</td>\n",
       "    </tr>\n",
       "  </tbody>\n",
       "</table>\n",
       "</div>"
      ],
      "text/plain": [
       "   Ages  Races  Genders  Timestamp    Year  Month   Day\n",
       "0   100      0        0 2017-01-12  2017.0    1.0  12.0\n",
       "1   100      0        0 2017-01-12  2017.0    1.0  12.0\n",
       "2   100      0        1 2017-01-10  2017.0    1.0  10.0\n",
       "3   100      0        1 2017-01-12  2017.0    1.0  12.0\n",
       "4   100      0        1 2017-01-12  2017.0    1.0  12.0\n",
       "5   100      0        1 2017-01-12  2017.0    1.0  12.0\n",
       "6   100      0        1 2017-01-17  2017.0    1.0  17.0\n",
       "7   100      0        1 2017-01-19  2017.0    1.0  19.0\n",
       "8   100      2        1 2017-01-05  2017.0    1.0   5.0\n",
       "9   100      2        1 2017-01-12  2017.0    1.0  12.0"
      ]
     },
     "execution_count": 27,
     "metadata": {},
     "output_type": "execute_result"
    }
   ],
   "source": [
    "# Proper object types\n",
    "convert_dict = {'Ages': int,\n",
    "                'Races': int,\n",
    "                \"Genders\": int\n",
    "                }\n",
    " \n",
    "df = df.astype(convert_dict)\n",
    "df.head(10)"
   ]
  },
  {
   "cell_type": "markdown",
   "metadata": {},
   "source": [
    "#### EXPLORATORY DATA ANALYSIS"
   ]
  },
  {
   "cell_type": "code",
   "execution_count": 28,
   "metadata": {},
   "outputs": [],
   "source": [
    "# EDA class\n",
    "class EdaAnalysis:\n",
    "    \n",
    "    def univariate(self,df,col1):\n",
    "        \"\"\" A function that does univariate analysis\"\"\"\n",
    "        plt.figure(figsize=(16,8))\n",
    "        sns.countplot(x=col1,data=df)\n",
    "        plt.title(f'No of images per {col1}')\n",
    "        plt.xlabel(col1)\n",
    "        plt.xticks(rotation=45)\n",
    "        plt.show()\n",
    "        \n",
    "    def bivariate(self,df,col1, col2):\n",
    "        \"\"\" A function that does bivariate analysis\"\"\"\n",
    "        plt.figure(figsize=(16,8))\n",
    "        sns.countplot(x=col1, data= df,hue=col2)\n",
    "        plt.title(f'{col1} on {col2}')\n",
    "        plt.ylabel(f'count of{col1}')\n",
    "        \n",
    "    def multivariate_analysis(self, df):\n",
    "      \n",
    "        \"\"\"Perform multivariate analysis on the data\"\"\"\n",
    "        # Calculate the pairwise Pearson correlation coefficients for all columns\n",
    "        corr_matrix = df.corr()\n",
    "        # Plot a heatmap to visualize the correlations\n",
    "        sns.heatmap(corr_matrix)\n",
    "\n",
    "        # class ExploratoryDataAnalysis:\n",
    "#     def __init__(self, data):\n",
    "#         self.data = data\n",
    "#     def univariate_analysis(self, data, column1):\n",
    "#         \"\"\"Perform univariate analysis on a single column of the data\"\"\"\n",
    "#         # Calculate basic statistics for the column\n",
    "#         mean = self.data[column1].mean()\n",
    "#         median = self.data[column1].median()\n",
    "#         mode = self.data[column1].mode()\n",
    "#         std = self.data[column1].std()\n",
    "#         min_value = self.data[column1].min()\n",
    "#         max_value = self.data[column1].max()\n",
    "#         # Plot a bar graphs to visualize the distribution of the data\n",
    "#         plt.figure(figsize=(16,8))\n",
    "#         sns.countplot(x= column1,data=data)\n",
    "#         plt.title(f'No of images per {column1}')\n",
    "#         plt.xlabel(column1)\n",
    "#         plt.xticks(rotation=45)\n",
    "#         plt.show()\n",
    "# #         # Return a dictionary with the calculated statistics\n",
    "#         return {\n",
    "#             'mean': mean,\n",
    "#             'median': median,\n",
    "#             'mode': mode,\n",
    "#             'std': std,\n",
    "#             'min': min_value,\n",
    "#             'max': max_value\n",
    "#         }\n",
    "#     def bivariate_analysis(self, data, column1, column2):\n",
    "#         \"\"\"Perform bivariate analysis between two columns of the data\"\"\"\n",
    "#         # Calculate the Pearson correlation coefficient between the two columns\n",
    "# #         corr = self.data[column1].corr(self.data[column2])\n",
    "#         # Plot a scatter plot to visualize the relationship between the two columns\n",
    "#         plt.figure(figsize=(16,8))\n",
    "#         sns.countplot(x=col1, data= df,hue=col2)\n",
    "#         plt.title(f'{col1} on {col2}')\n",
    "#         plt.ylabel(f'count of{col1}')\n",
    "#         # Return the calculated correlation coefficient\n",
    "# #         return corr\n",
    "#     def multivariate_analysis(self):\n",
    "#         \"\"\"Perform multivariate analysis on the data\"\"\"\n",
    "#         # Calculate the pairwise Pearson correlation coefficients for all columns\n",
    "#         corr_matrix = self.data.corr()\n",
    "#         # Plot a heatmap to visualize the correlations\n",
    "#         sns.heatmap(corr_matrix)\n",
    "\n"
   ]
  },
  {
   "cell_type": "code",
   "execution_count": 29,
   "metadata": {},
   "outputs": [],
   "source": [
    "# Instantiation \n",
    "graph = EdaAnalysis()"
   ]
  },
  {
   "cell_type": "markdown",
   "metadata": {},
   "source": [
    "##### Univariate Analysis"
   ]
  },
  {
   "cell_type": "code",
   "execution_count": 30,
   "metadata": {},
   "outputs": [
    {
     "data": {
      "image/png": "[encoded data removed]",
      "text/plain": [
       "<Figure size 1600x800 with 1 Axes>"
      ]
     },
     "metadata": {},
     "output_type": "display_data"
    }
   ],
   "source": [
    "graph.univariate(df, 'Races')"
   ]
  },
  {
   "cell_type": "markdown",
   "metadata": {},
   "source": [
    "From the bar chats above, the Whites, Blacks, Asians, Indians, and Other races are denoted by 0, 1, 2, 3 and 4 respectively."
   ]
  },
  {
   "cell_type": "code",
   "execution_count": 31,
   "metadata": {},
   "outputs": [
    {
     "data": {
      "image/png": "[encoded data removed]",
      "text/plain": [
       "<Figure size 1600x800 with 1 Axes>"
      ]
     },
     "metadata": {},
     "output_type": "display_data"
    }
   ],
   "source": [
    "graph.univariate(df, 'Genders')"
   ]
  },
  {
   "cell_type": "code",
   "execution_count": 32,
   "metadata": {},
   "outputs": [
    {
     "data": {
      "image/png": "[encoded data removed]",
      "text/plain": [
       "<Figure size 1600x800 with 1 Axes>"
      ]
     },
     "metadata": {},
     "output_type": "display_data"
    }
   ],
   "source": [
    "graph.univariate(df, 'Year')"
   ]
  },
  {
   "cell_type": "markdown",
   "metadata": {},
   "source": [
    "The photos were taken across two years. The majority of the photos, 21883 were taken in 2017 while the remaining 1821 were taken in 2016.\n",
    "\n",
    "0 represents males while 1 represents females."
   ]
  },
  {
   "cell_type": "code",
   "execution_count": 33,
   "metadata": {},
   "outputs": [
    {
     "name": "stdout",
     "output_type": "stream",
     "text": [
      "0        Above 90\n",
      "1        Above 90\n",
      "2        Above 90\n",
      "3        Above 90\n",
      "4        Above 90\n",
      "           ...   \n",
      "23703        0-10\n",
      "23704        0-10\n",
      "23705        0-10\n",
      "23706        0-10\n",
      "23707        0-10\n",
      "Name: Ages_binned, Length: 23705, dtype: category\n",
      "Categories (10, object): ['0-10' < '11-20' < '21-30' < '31-40' ... '61-70' < '71-80' < '81-90' < 'Above 90']\n"
     ]
    }
   ],
   "source": [
    "col = 'Ages'\n",
    "\n",
    "# Create the bins\n",
    "bins = [0, 10, 20, 30, 40, 50, 60, 70, 80, 90, 120]\n",
    "\n",
    "# Create the names for the bins\n",
    "names = ['0-10', '11-20', '21-30', '31-40', '41-50', '51-60', '61-70' , '71-80', '81-90', 'Above 90' ]\n",
    "\n",
    "# Bin the data\n",
    "df['Ages_binned'] = pd.cut(df[col], bins, labels=names)\n",
    "\n",
    "# View the binned data\n",
    "print(df['Ages_binned'])"
   ]
  },
  {
   "cell_type": "code",
   "execution_count": 34,
   "metadata": {},
   "outputs": [
    {
     "data": {
      "image/png": "[encoded data removed]",
      "text/plain": [
       "<Figure size 1600x800 with 1 Axes>"
      ]
     },
     "metadata": {},
     "output_type": "display_data"
    }
   ],
   "source": [
    "graph.univariate(df, 'Ages_binned')"
   ]
  },
  {
   "cell_type": "markdown",
   "metadata": {},
   "source": [
    "The bar charts above illustrate the discripancies in the age distributions. The majority of the images came from 21 to 30 year old group followed by 31-40 years old group. Lesser images came from the old, above ninety years."
   ]
  },
  {
   "cell_type": "markdown",
   "metadata": {},
   "source": [
    "##### Bivariate Analysis"
   ]
  },
  {
   "cell_type": "code",
   "execution_count": 35,
   "metadata": {},
   "outputs": [
    {
     "data": {
      "image/png": "[encoded data removed]",
      "text/plain": [
       "<Figure size 1600x800 with 1 Axes>"
      ]
     },
     "metadata": {},
     "output_type": "display_data"
    }
   ],
   "source": [
    "graph.bivariate(df, 'Races' , 'Genders')"
   ]
  },
  {
   "cell_type": "markdown",
   "metadata": {},
   "source": [
    "While the data generally entails more males than females, the imbalance only reflects across three races; whites, blacks and Indians. The number of females across the remaining two groups are higher than that of men."
   ]
  },
  {
   "cell_type": "code",
   "execution_count": 36,
   "metadata": {},
   "outputs": [
    {
     "data": {
      "image/png": "[encoded data removed]",
      "text/plain": [
       "<Figure size 1600x800 with 1 Axes>"
      ]
     },
     "metadata": {},
     "output_type": "display_data"
    }
   ],
   "source": [
    "graph.bivariate(df, 'Ages_binned' , 'Genders')"
   ]
  },
  {
   "cell_type": "markdown",
   "metadata": {},
   "source": [
    "Between class ages 0-10, 10-20, 21-30 and 81-90 there are more females compared to males while the remaining classes portray a differing trend. there are more females than males."
   ]
  },
  {
   "cell_type": "code",
   "execution_count": 37,
   "metadata": {},
   "outputs": [
    {
     "data": {
      "image/png": "[encoded data removed]",
      "text/plain": [
       "<Figure size 1600x800 with 1 Axes>"
      ]
     },
     "metadata": {},
     "output_type": "display_data"
    }
   ],
   "source": [
    "graph.bivariate(df, 'Ages_binned' , 'Races')"
   ]
  },
  {
   "cell_type": "markdown",
   "metadata": {},
   "source": [
    "The whites are the majority in this dataset which is portrayed along all classes. "
   ]
  },
  {
   "cell_type": "markdown",
   "metadata": {},
   "source": [
    "#### Multivariate "
   ]
  },
  {
   "cell_type": "code",
   "execution_count": 38,
   "metadata": {},
   "outputs": [
    {
     "data": {
      "image/png": "[encoded data removed]",
      "text/plain": [
       "<Figure size 640x480 with 2 Axes>"
      ]
     },
     "metadata": {},
     "output_type": "display_data"
    }
   ],
   "source": [
    "corr_matrix = df.corr()\n",
    "# Plot a heatmap to visualize the correlations\n",
    "sns.heatmap(corr_matrix);"
   ]
  },
  {
   "cell_type": "markdown",
   "metadata": {},
   "source": [
    "## Data Preprocessing"
   ]
  },
  {
   "cell_type": "markdown",
   "metadata": {},
   "source": [
    "We need to prepare the data inorder to fit our modeling process."
   ]
  },
  {
   "cell_type": "code",
   "execution_count": 57,
   "metadata": {},
   "outputs": [],
   "source": [
    "# Importing necessary libraries for the image preprocessing\n",
    "import tensorflow as tf\n",
    "import keras \n",
    "from skimage import io \n",
    "#import cv2"
   ]
  },
  {
   "cell_type": "markdown",
   "metadata": {},
   "source": [
    "First, we need to split our dataset into training and test sets to ensure that the model is well-tuned, unbiased, and generalizes well to new data."
   ]
  },
  {
   "cell_type": "code",
   "execution_count": 58,
   "metadata": {},
   "outputs": [],
   "source": [
    "# find the file names of the images in the dataset\n",
    "\n",
    "import glob\n",
    "dataset = r\"data/UTKFace/*.jpg\"\n",
    "file_names = glob.glob(dataset)\n"
   ]
  },
  {
   "cell_type": "code",
   "execution_count": 59,
   "metadata": {},
   "outputs": [],
   "source": [
    "from sklearn.model_selection import train_test_split\n",
    "#filenames = utkface_image_names\n",
    "# Split the filenames into training and test sets\n",
    "train_set, test_set = train_test_split(file_names, test_size=0.2, random_state=230)"
   ]
  },
  {
   "cell_type": "code",
   "execution_count": 60,
   "metadata": {},
   "outputs": [
    {
     "name": "stdout",
     "output_type": "stream",
     "text": [
      "Len of test set: 4742\n",
      "Len of train set 18966\n"
     ]
    }
   ],
   "source": [
    "print(\"Len of test set:\", len(test_set))\n",
    "print(\"Len of train set\",  len(train_set))"
   ]
  },
  {
   "cell_type": "code",
   "execution_count": 61,
   "metadata": {},
   "outputs": [
    {
     "data": {
      "image/png": "[encoded data removed]",
      "text/plain": [
       "<Figure size 640x480 with 1 Axes>"
      ]
     },
     "metadata": {},
     "output_type": "display_data"
    }
   ],
   "source": [
    "io.imshow(train_set[0]);"
   ]
  },
  {
   "cell_type": "markdown",
   "metadata": {},
   "source": [
    " Therefore our next step is preprocessing images for image classification which is an important step that can help to improve the performance and robustness of the model by preparing the input data in a suitable format for the model to consume."
   ]
  },
  {
   "cell_type": "markdown",
   "metadata": {},
   "source": [
    "The preprocessing steps we need to do include:\n",
    "1. Resizing\n",
    "2. Normalization\n",
    "3. Data Augmentation\n",
    "4. Noise Reduction\n",
    "5. \n"
   ]
  },
  {
   "cell_type": "markdown",
   "metadata": {},
   "source": [
    "#### Resizing and Normalization \n",
    "We resize the images to a uniform size and normalize the pixel values to a range of between o and 1 to hep converge the model better"
   ]
  },
  {
   "cell_type": "code",
   "execution_count": 111,
   "metadata": {},
   "outputs": [],
   "source": [
    "from tensorflow.keras.preprocessing.image import img_to_array\n",
    "from PIL import Image\n",
    "import warnings\n",
    "warnings.filterwarnings('ignore')"
   ]
  },
  {
   "cell_type": "code",
   "execution_count": 74,
   "metadata": {},
   "outputs": [
    {
     "name": "stdout",
     "output_type": "stream",
     "text": [
      "(200, 200, 3)\n"
     ]
    }
   ],
   "source": [
    "from tensorflow.keras.preprocessing.image import img_to_array, load_img\n",
    "keras.preprocessing.image.img_to_array\n",
    "# Define the target size for the images\n",
    "target_size = (200, 200)\n",
    "\n",
    "# Load an image from the UTK dataset\n",
    "for file_name in file_names:\n",
    "    image = load_img(file_name, target_size=target_size)\n",
    "    # Convert the image to an array and normalize it\n",
    "    image_array = img_to_array(image)\n",
    "    image_array = image_array / 255.0\n",
    "\n",
    "# Print the shape of the image array\n",
    "print(image_array.shape)\n"
   ]
  },
  {
   "cell_type": "markdown",
   "metadata": {},
   "source": [
    "#### Data Augmentation\n",
    "\n",
    "Generating additional training data by applying random transformations to the original images to help the model learn better.\n",
    "\n",
    "The available image augmentation options are:\n",
    "\n",
    "rotation_range: Degrees (0-180) within which to randomly rotate pictures.\n",
    "\n",
    "width_shift_range: Fraction of total width within which to randomly translate pictures horizontally.\n",
    "\n",
    "height_shift_range: Fraction of total height within which to randomly translate pictures vertically.\n",
    "\n",
    "shear_range: Shear intensity (shear angle in counter-clockwise direction in degrees).\n",
    "\n",
    "zoom_range: Range for randomly zooming.\n",
    "\n",
    "horizontal_flip: Whether to randomly flip inputs horizontally.\n",
    "\n",
    "fill_mode: Points outside the boundaries of the input are filled according to the given mode.\n"
   ]
  },
  {
   "cell_type": "code",
   "execution_count": 97,
   "metadata": {},
   "outputs": [],
   "source": [
    "from tensorflow.keras.preprocessing.image import ImageDataGenerator\n",
    "\n",
    "# Create an ImageDataGenerator object\n",
    "datagen = ImageDataGenerator(\n",
    "    rotation_range=40,\n",
    "    width_shift_range=0.2,\n",
    "    height_shift_range=0.2,\n",
    "    shear_range=0.2,\n",
    "    zoom_range=0.2,\n",
    "    horizontal_flip=True,\n",
    "    fill_mode='nearest'\n",
    ")\n",
    "\n",
    "# Load the image\n",
    "image = load_img(file_name, target_size=target_size)\n",
    "\n",
    "# Convert the image to a NumPy array\n",
    "image = img_to_array(image)\n",
    "\n",
    "# Reshape the image into a batch of 1 image\n",
    "image = image.reshape((1, image.shape[0], image.shape[1], image.shape[2]))\n",
    "\n",
    "# Generate 5 augmented versions of the image\n",
    "augmented_images = datagen.flow(image, batch_size=1, save_to_dir='preview', save_prefix='image', save_format='jpg')\n"
   ]
  },
  {
   "cell_type": "markdown",
   "metadata": {},
   "source": [
    "#### Denoising the images"
   ]
  },
  {
   "cell_type": "code",
   "execution_count": 112,
   "metadata": {},
   "outputs": [
    {
     "data": {
      "text/plain": [
       "True"
      ]
     },
     "execution_count": 112,
     "metadata": {},
     "output_type": "execute_result"
    }
   ],
   "source": [
    "from skimage.restoration import denoise_tv_chambolle\n",
    "\n",
    "# Load the image\n",
    "image = cv2.imread(file_name)\n",
    "\n",
    "# Denoise the image\n",
    "denoised_image = denoise_tv_chambolle(image, weight=0.1, multichannel=True)\n",
    "\n",
    "# Save the denoised image\n",
    "cv2.imwrite('denoised_image.jpg', denoised_image)"
   ]
  },
  {
   "cell_type": "markdown",
   "metadata": {},
   "source": [
    "## MODELLING"
   ]
  },
  {
   "cell_type": "code",
   "execution_count": null,
   "metadata": {},
   "outputs": [],
   "source": []
  },
  {
   "cell_type": "markdown",
   "metadata": {},
   "source": [
    "## EVALUATION"
   ]
  },
  {
   "cell_type": "markdown",
   "metadata": {},
   "source": [
    "## DEPLOYMENT"
   ]
  }
 ],
 "metadata": {
  "kernelspec": {
   "display_name": "Python 3 (ipykernel)",
   "language": "python",
   "name": "python3"
  },
  "language_info": {
   "codemirror_mode": {
    "name": "ipython",
    "version": 3
   },
   "file_extension": ".py",
   "mimetype": "text/x-python",
   "name": "python",
   "nbconvert_exporter": "python",
   "pygments_lexer": "ipython3",
   "version": "3.8.5"
  },
  "vscode": {
   "interpreter": {
    "hash": "dc07d24e2f18896857f0b2a651fe84ba40ce7b297e58d8804a308c8039f752a6"
   }
  }
 },
 "nbformat": 4,
 "nbformat_minor": 2
}
